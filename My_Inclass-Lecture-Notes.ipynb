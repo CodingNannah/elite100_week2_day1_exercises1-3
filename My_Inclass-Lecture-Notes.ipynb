{
 "cells": [
  {
   "cell_type": "markdown",
   "metadata": {
    "id": "EK4xvHR9y3kW"
   },
   "source": [
    "# Week 2 - Monday Lesson (variable assignment, loops, lists)"
   ]
  },
  {
   "cell_type": "markdown",
   "metadata": {
    "id": "3If9_HmDy3kZ"
   },
   "source": [
    "## Tasks Today:\n",
    "\n",
    "1) Int & Float assignments <br>\n",
    " &nbsp;&nbsp;&nbsp;&nbsp; a) Assigning int <br>\n",
    " &nbsp;&nbsp;&nbsp;&nbsp; b) Assigning float <br>\n",
    " &nbsp;&nbsp;&nbsp;&nbsp; c) Performing Calculations on ints and floats <br>\n",
    " &nbsp;&nbsp;&nbsp;&nbsp;&nbsp;&nbsp;&nbsp;&nbsp; - Addition <br>\n",
    " &nbsp;&nbsp;&nbsp;&nbsp;&nbsp;&nbsp;&nbsp;&nbsp; - Subtraction <br>\n",
    " &nbsp;&nbsp;&nbsp;&nbsp;&nbsp;&nbsp;&nbsp;&nbsp; - Multiplication <br>\n",
    " &nbsp;&nbsp;&nbsp;&nbsp;&nbsp;&nbsp;&nbsp;&nbsp; - Division <br>\n",
    " &nbsp;&nbsp;&nbsp;&nbsp;&nbsp;&nbsp;&nbsp;&nbsp; - Floor Division <br>\n",
    " &nbsp;&nbsp;&nbsp;&nbsp;&nbsp;&nbsp;&nbsp;&nbsp; - Modulo <br>\n",
    " &nbsp;&nbsp;&nbsp;&nbsp;&nbsp;&nbsp;&nbsp;&nbsp; - Exponential <br>\n",
    "2) String Input-Output <br>\n",
    " &nbsp;&nbsp;&nbsp;&nbsp; a) String Assignment <br>\n",
    " &nbsp;&nbsp;&nbsp;&nbsp; b) print() <br>\n",
    " &nbsp;&nbsp;&nbsp;&nbsp; c) String Concatenation <br>\n",
    " &nbsp;&nbsp;&nbsp;&nbsp; d) Type Conversion <br>\n",
    " &nbsp;&nbsp;&nbsp;&nbsp; e) input() <br>\n",
    " &nbsp;&nbsp;&nbsp;&nbsp; f) format() <br>\n",
    " &nbsp;&nbsp;&nbsp;&nbsp; g) Old Way (python 2) <br>\n",
    "3) <b>In-Class Exercise #1</b> <br>\n",
    "4) If Statements <br>\n",
    " &nbsp;&nbsp;&nbsp;&nbsp; a) 'is' keyword <br>\n",
    " &nbsp;&nbsp;&nbsp;&nbsp; b) 'in' keyword <br>\n",
    " &nbsp;&nbsp;&nbsp;&nbsp; c) 'not in' keyword <br>\n",
    "5) <b>In-Class Exercise #2</b> <br>\n",
    "6) Elif Statements <br>\n",
    "7) Else Statements <br>\n",
    "8) <b>In-Class Exercise #3</b> <br>\n",
    "9) For Loops <br>\n",
    " &nbsp;&nbsp;&nbsp;&nbsp; a) Using 'in' keyword <br>\n",
    " &nbsp;&nbsp;&nbsp;&nbsp; b) Continue Statement <br>\n",
    " &nbsp;&nbsp;&nbsp;&nbsp; c) Break Statement <br>\n",
    " &nbsp;&nbsp;&nbsp;&nbsp; d) Pass Statement <br>\n",
    " &nbsp;&nbsp;&nbsp;&nbsp; e) Double For Loops <br>\n",
    "10) While Loops <br>\n",
    " &nbsp;&nbsp;&nbsp;&nbsp; a) Looping 'While True' <br>\n",
    " &nbsp;&nbsp;&nbsp;&nbsp; b) While and For Loops Used Together <br>\n",
    "11) Built-In Functions <br>\n",
    " &nbsp;&nbsp;&nbsp;&nbsp; a) range() <br>\n",
    " &nbsp;&nbsp;&nbsp;&nbsp; b) len() <br>\n",
    " &nbsp;&nbsp;&nbsp;&nbsp; c) help() <br>\n",
    " &nbsp;&nbsp;&nbsp;&nbsp; d) isinstance() <br>\n",
    " &nbsp;&nbsp;&nbsp;&nbsp; e) abs() <br>\n",
    "12) Try and Except <br>\n",
    "13) Lists <br>\n",
    " &nbsp;&nbsp;&nbsp;&nbsp; a) Declaring Lists <br>\n",
    " &nbsp;&nbsp;&nbsp;&nbsp; b) Indexing a List <br>\n",
    " &nbsp;&nbsp;&nbsp;&nbsp; c) .append() <br>\n",
    " &nbsp;&nbsp;&nbsp;&nbsp; d) .insert() <br>\n",
    " &nbsp;&nbsp;&nbsp;&nbsp; e) .pop() <br>\n",
    " &nbsp;&nbsp;&nbsp;&nbsp; f) .remove() <br>\n",
    " &nbsp;&nbsp;&nbsp;&nbsp; g) del() <br>\n",
    " &nbsp;&nbsp;&nbsp;&nbsp; h) Concatenating Two Lists <br>\n",
    " &nbsp;&nbsp;&nbsp;&nbsp; i) Lists Within Lists <br>\n",
    " &nbsp;&nbsp;&nbsp;&nbsp; j) Looping Through Lists <br>"
   ]
  },
  {
   "cell_type": "markdown",
   "metadata": {
    "id": "Adyp-EWry3kb"
   },
   "source": [
    "### Int & Float Assignments"
   ]
  },
  {
   "cell_type": "markdown",
   "metadata": {
    "id": "nSGE4R1zy3kc"
   },
   "source": [
    "##### Assigning int"
   ]
  },
  {
   "cell_type": "raw",
   "metadata": {},
   "source": [
    "Command Mode = blue: \n",
    "a inserts line above\n",
    "b inserts line below\n",
    "d deletes line\n",
    "\n",
    "Ctrl+z outside - undoes last "
   ]
  },
  {
   "cell_type": "raw",
   "metadata": {},
   "source": [
    "Kernal: restart, run all -- works again"
   ]
  },
  {
   "cell_type": "raw",
   "metadata": {},
   "source": [
    "Think of variable as a bucket/address - holds the reference where we store memory.\n"
   ]
  },
  {
   "cell_type": "code",
   "execution_count": 63,
   "metadata": {
    "id": "bdMIWG3Yy3kc",
    "outputId": "c895cc13-86df-44d8-8246-2d5d21bc0964"
   },
   "outputs": [
    {
     "name": "stdout",
     "output_type": "stream",
     "text": [
      "6\n"
     ]
    }
   ],
   "source": [
    "number = 6\n",
    "\n",
    "print(number)"
   ]
  },
  {
   "cell_type": "code",
   "execution_count": 64,
   "metadata": {},
   "outputs": [
    {
     "name": "stdout",
     "output_type": "stream",
     "text": [
      "123\n"
     ]
    }
   ],
   "source": [
    "my_variable = 123\n",
    "print(my_variable)"
   ]
  },
  {
   "cell_type": "code",
   "execution_count": 65,
   "metadata": {},
   "outputs": [
    {
     "name": "stdout",
     "output_type": "stream",
     "text": [
      "<class 'float'>\n"
     ]
    }
   ],
   "source": [
    "my_new_var = 123.\n",
    "print(type(my_new_var))"
   ]
  },
  {
   "cell_type": "markdown",
   "metadata": {
    "id": "BLO5mJkCy3kf"
   },
   "source": [
    "##### Assigning float"
   ]
  },
  {
   "cell_type": "code",
   "execution_count": 66,
   "metadata": {
    "id": "SjbfVMFay3kf",
    "outputId": "a5bdf9c8-2ea3-4d4c-964b-adc5f5c11da5"
   },
   "outputs": [
    {
     "name": "stdout",
     "output_type": "stream",
     "text": [
      "2.3\n"
     ]
    }
   ],
   "source": [
    "numberFloat = 2.3\n",
    "\n",
    "print(numberFloat)\n",
    "\n",
    "number_Float = 2.5"
   ]
  },
  {
   "cell_type": "markdown",
   "metadata": {
    "id": "fgwcEc-Py3kg"
   },
   "source": [
    "#### Performing Calculations on ints and floats"
   ]
  },
  {
   "cell_type": "markdown",
   "metadata": {
    "id": "Ug5UhnC-y3kh"
   },
   "source": [
    "##### Addition"
   ]
  },
  {
   "cell_type": "code",
   "execution_count": 67,
   "metadata": {
    "id": "0Jf9Xhefy3kh",
    "outputId": "42819493-ca42-4151-e5df-ff14121e3eec"
   },
   "outputs": [
    {
     "name": "stdout",
     "output_type": "stream",
     "text": [
      "7.7\n",
      "12.7\n"
     ]
    }
   ],
   "source": [
    "num1 = 2\n",
    "num2 = 5.7\n",
    "\n",
    "result = num1 + num2\n",
    "\n",
    "print(result)\n",
    "\n",
    "# Short-hand version \n",
    "result += 5 # result = result + 2\n",
    "print(result)"
   ]
  },
  {
   "cell_type": "markdown",
   "metadata": {
    "id": "C9J3WtHfy3kh"
   },
   "source": [
    "##### Subtraction"
   ]
  },
  {
   "cell_type": "code",
   "execution_count": 68,
   "metadata": {
    "id": "fbb_oGcCy3ki",
    "outputId": "9ef3400b-2b33-47fc-b5a4-578c758f18c2"
   },
   "outputs": [
    {
     "name": "stdout",
     "output_type": "stream",
     "text": [
      "3.7\n",
      "0.7000000000000002\n"
     ]
    }
   ],
   "source": [
    "result_diff = num2 - num1\n",
    "print(result_diff)\n",
    "\n",
    "# short-hand version\n",
    "result_diff -= 3\n",
    "print(result_diff)"
   ]
  },
  {
   "cell_type": "raw",
   "metadata": {},
   "source": [
    "0.7 etc is repeating number in binary"
   ]
  },
  {
   "cell_type": "raw",
   "metadata": {},
   "source": [
    "round decimals at the very end before showing to user"
   ]
  },
  {
   "cell_type": "markdown",
   "metadata": {
    "id": "f6ItNRUHy3ki"
   },
   "source": [
    "##### Multiplication"
   ]
  },
  {
   "cell_type": "code",
   "execution_count": 69,
   "metadata": {
    "id": "UMUF6tjEy3ki",
    "outputId": "c8dedc4c-d116-4e5b-cdb3-c6b5fa941954"
   },
   "outputs": [
    {
     "name": "stdout",
     "output_type": "stream",
     "text": [
      "11.4\n",
      "22.8\n"
     ]
    }
   ],
   "source": [
    "result_mul = num1 * num2\n",
    "print(result_mul)\n",
    "\n",
    "#short-hand version\n",
    "result_mul *= 2\n",
    "print(result_mul)"
   ]
  },
  {
   "cell_type": "code",
   "execution_count": 70,
   "metadata": {},
   "outputs": [
    {
     "name": "stdout",
     "output_type": "stream",
     "text": [
      "50\n",
      "150\n"
     ]
    }
   ],
   "source": [
    "num3 =5\n",
    "num4 = 10\n",
    "\n",
    "result_prod = num3 * num4\n",
    "print(result_prod)\n",
    "\n",
    "result_prod *= 3\n",
    "print(result_prod)"
   ]
  },
  {
   "cell_type": "markdown",
   "metadata": {
    "id": "IV1NxisZy3ki"
   },
   "source": [
    "##### Division"
   ]
  },
  {
   "cell_type": "code",
   "execution_count": 71,
   "metadata": {
    "id": "-SB1sk0jy3kj",
    "outputId": "3d12f0a8-6949-4ea1-859e-9ffafb422588"
   },
   "outputs": [
    {
     "name": "stdout",
     "output_type": "stream",
     "text": [
      "2.85\n",
      "1.425\n"
     ]
    }
   ],
   "source": [
    "result_div = num2/num1\n",
    "print(result_div)\n",
    "\n",
    "#short-hand version\n",
    "result_div /= 2\n",
    "print(result_div)"
   ]
  },
  {
   "cell_type": "code",
   "execution_count": 72,
   "metadata": {},
   "outputs": [
    {
     "name": "stdout",
     "output_type": "stream",
     "text": [
      "2.0\n",
      "1.0\n"
     ]
    }
   ],
   "source": [
    "result_div = num4/num3\n",
    "print(result_div)\n",
    "\n",
    "result_div /= 2\n",
    "print(result_div)"
   ]
  },
  {
   "cell_type": "markdown",
   "metadata": {
    "id": "l3B-8XHHy3kj"
   },
   "source": [
    "##### Floor Division"
   ]
  },
  {
   "cell_type": "code",
   "execution_count": 73,
   "metadata": {
    "id": "3nR-W7HIy3kj",
    "outputId": "6833fdf8-c87f-407f-aa21-7188ee3e1d1b"
   },
   "outputs": [
    {
     "name": "stdout",
     "output_type": "stream",
     "text": [
      "2.0\n",
      "1.0\n"
     ]
    }
   ],
   "source": [
    "result_floor = num2 // num1\n",
    "print(result_floor)\n",
    "\n",
    "#short-hand version\n",
    "result_floor //= 2\n",
    "print(result_floor)"
   ]
  },
  {
   "cell_type": "code",
   "execution_count": 74,
   "metadata": {},
   "outputs": [
    {
     "name": "stdout",
     "output_type": "stream",
     "text": [
      "2.0\n",
      "2.75\n"
     ]
    }
   ],
   "source": [
    "result_floor = 5.5//2\n",
    "print(result_floor)\n",
    "print(5.5/2)"
   ]
  },
  {
   "cell_type": "markdown",
   "metadata": {
    "id": "MxBPm-hJy3kj"
   },
   "source": [
    "##### Modulo"
   ]
  },
  {
   "cell_type": "code",
   "execution_count": 75,
   "metadata": {},
   "outputs": [
    {
     "name": "stdout",
     "output_type": "stream",
     "text": [
      "1\n",
      "2.5\n"
     ]
    }
   ],
   "source": [
    "#modulo is the remainder!\n",
    "\n",
    "result_mod = 5%2\n",
    "print(result_mod)\n",
    "print(5/2)"
   ]
  },
  {
   "cell_type": "code",
   "execution_count": 76,
   "metadata": {
    "id": "kOIinkBdy3kj",
    "outputId": "d480dad3-8e2d-442a-b123-2b23edf801eb"
   },
   "outputs": [
    {
     "name": "stdout",
     "output_type": "stream",
     "text": [
      "1.7000000000000002\n",
      "1.7000000000000002\n"
     ]
    }
   ],
   "source": [
    "result_mod = num2 % num1\n",
    "print(result_mod)\n",
    "\n",
    "#short-hand version\n",
    "result_mod %= 2\n",
    "print(result_mod)"
   ]
  },
  {
   "cell_type": "code",
   "execution_count": 77,
   "metadata": {},
   "outputs": [
    {
     "data": {
      "text/plain": [
       "7"
      ]
     },
     "execution_count": 77,
     "metadata": {},
     "output_type": "execute_result"
    }
   ],
   "source": [
    "#67 days I assume allmonth have 30 days ... how many extra days do I have with 67 days?\n",
    "\n",
    "67%30"
   ]
  },
  {
   "cell_type": "code",
   "execution_count": 78,
   "metadata": {},
   "outputs": [
    {
     "data": {
      "text/plain": [
       "0"
      ]
     },
     "execution_count": 78,
     "metadata": {},
     "output_type": "execute_result"
    }
   ],
   "source": [
    "#Is 15 a multiple of three?\n",
    "15%3"
   ]
  },
  {
   "cell_type": "code",
   "execution_count": 79,
   "metadata": {},
   "outputs": [],
   "source": [
    "#Every 3rd box:\n",
    "#if 15%3 == 0\n",
    "#rint(box is red)"
   ]
  },
  {
   "cell_type": "code",
   "execution_count": 80,
   "metadata": {},
   "outputs": [
    {
     "name": "stdout",
     "output_type": "stream",
     "text": [
      "5\n",
      "30\n"
     ]
    }
   ],
   "source": [
    "# CodeWARS Secret!\n",
    "amount_seconds = 330\n",
    "no_min = amount_seconds // 60\n",
    "print(no_min)\n",
    "seconds = amount_seconds % 60\n",
    "print(seconds)"
   ]
  },
  {
   "cell_type": "markdown",
   "metadata": {
    "id": "SpEvRF07y3kk"
   },
   "source": [
    "##### Exponential"
   ]
  },
  {
   "cell_type": "code",
   "execution_count": 81,
   "metadata": {
    "id": "gFijQhMoy3kk",
    "outputId": "a25fe388-31aa-43b1-cf7c-1dcf7e63ed03"
   },
   "outputs": [
    {
     "name": "stdout",
     "output_type": "stream",
     "text": [
      "25\n",
      "25\n",
      "625\n"
     ]
    }
   ],
   "source": [
    "square = 5 ** 2\n",
    "print(square)\n",
    "\n",
    "#short-hand version\n",
    "x = 5\n",
    "x **=2\n",
    "print(x)\n",
    "\n",
    "#short-hand version\n",
    "square **= 2\n",
    "print(square)"
   ]
  },
  {
   "cell_type": "markdown",
   "metadata": {
    "id": "3zSbDVgOy3kk"
   },
   "source": [
    "### String Input-Output"
   ]
  },
  {
   "cell_type": "markdown",
   "metadata": {
    "id": "It8FRq9Uy3kk"
   },
   "source": [
    "##### String Assignment"
   ]
  },
  {
   "cell_type": "code",
   "execution_count": 82,
   "metadata": {
    "id": "p1WKOIt8y3kk",
    "outputId": "647fdec6-d72c-4325-cdee-df77f6bbc83c"
   },
   "outputs": [
    {
     "name": "stdout",
     "output_type": "stream",
     "text": [
      "Joel\n",
      "Joel\n"
     ]
    }
   ],
   "source": [
    "name = \"Joel\"\n",
    "print(name)\n",
    "\n",
    "name = 'Joel'\n",
    "print(name)"
   ]
  },
  {
   "cell_type": "code",
   "execution_count": 83,
   "metadata": {},
   "outputs": [
    {
     "name": "stdout",
     "output_type": "stream",
     "text": [
      "Welcome to class, Y'all\n",
      "Welcome to class, Y'all\n"
     ]
    }
   ],
   "source": [
    "greeting = \"Welcome to class, Y'all\"\n",
    "print(greeting)\n",
    "\n",
    "greeting = 'Welcome to class, Y\\'all'\n",
    "print(greeting)"
   ]
  },
  {
   "cell_type": "markdown",
   "metadata": {
    "id": "h6ix6DBoy3kl"
   },
   "source": [
    "##### print() <br>\n",
    "<p>Don't forget about end=' '</p>"
   ]
  },
  {
   "cell_type": "code",
   "execution_count": 84,
   "metadata": {
    "id": "cexJXSEPy3kl",
    "outputId": "530a9b33-14fd-40d0-89cf-e53ea608a91a"
   },
   "outputs": [
    {
     "name": "stdout",
     "output_type": "stream",
     "text": [
      "This is my first name:  Joel\n",
      "Full Name:  Joel Carter"
     ]
    }
   ],
   "source": [
    "print(\"This is my first name: \", name)\n",
    "\n",
    "print(\"Full Name: \", name, end=\" Carter\")"
   ]
  },
  {
   "cell_type": "code",
   "execution_count": 85,
   "metadata": {
    "scrolled": true
   },
   "outputs": [
    {
     "name": "stdout",
     "output_type": "stream",
     "text": [
      "\t Welcome to our class! \n",
      " This is Intro to Python \n",
      " I hope you have fun!\n"
     ]
    }
   ],
   "source": [
    "paragraph = '\\t Welcome to our class! \\n This is Intro to Python \\n I hope you have fun!'\n",
    "print(paragraph)"
   ]
  },
  {
   "cell_type": "code",
   "execution_count": 86,
   "metadata": {},
   "outputs": [
    {
     "name": "stdout",
     "output_type": "stream",
     "text": [
      "\n",
      "Hey, \n",
      "look at this\n",
      "wild   and crazy   string\n",
      "that is a lot of \n",
      "odd and     zany lines!\n",
      "\n",
      "\n",
      "Hey, \n",
      "look at this!\n",
      "\n",
      "It is just as \n",
      "wild   and crazy!\n",
      "\n",
      "This long     string   works, too!\n",
      "\n"
     ]
    }
   ],
   "source": [
    "multiline= '''\n",
    "Hey, \n",
    "look at this\n",
    "wild   and crazy   string\n",
    "that is a lot of \n",
    "odd and     zany lines!\n",
    "'''\n",
    "\n",
    "print(multiline)\n",
    "\n",
    "\n",
    "\n",
    "multiline= \"\"\"\n",
    "Hey, \n",
    "look at this!\n",
    "\n",
    "It is just as \n",
    "wild   and crazy!\n",
    "\n",
    "This long     string   works, too!\n",
    "\"\"\"\n",
    "\n",
    "print(multiline)"
   ]
  },
  {
   "cell_type": "markdown",
   "metadata": {
    "id": "6x91c1Xky3kl"
   },
   "source": [
    "##### String Concatenation"
   ]
  },
  {
   "cell_type": "code",
   "execution_count": 87,
   "metadata": {
    "id": "z0MuD_HHy3kl",
    "outputId": "a24664fb-e238-478d-862b-d1fd73e79bd5"
   },
   "outputs": [
    {
     "name": "stdout",
     "output_type": "stream",
     "text": [
      "John Smith\n",
      "John Smith Jr\n"
     ]
    }
   ],
   "source": [
    "first_name = \"John\"\n",
    "last_name = \"Smith\"\n",
    "\n",
    "full_name = first_name + \" \" + last_name\n",
    "print(full_name)\n",
    "\n",
    "# Short-hand version\n",
    "full_name += \" Jr\"\n",
    "print(full_name)"
   ]
  },
  {
   "cell_type": "code",
   "execution_count": 88,
   "metadata": {},
   "outputs": [
    {
     "name": "stdout",
     "output_type": "stream",
     "text": [
      "Tony Campos\n",
      "Tony Campos is a great student!\n",
      "Tony\n",
      "!Tneduts Taerg A Si Sopmac Ynot\n",
      "Tn Apsi  Ra Tdn!\n",
      "!Ndt Ar  Ispa Nt\n"
     ]
    }
   ],
   "source": [
    "first_name = \"Tony\"\n",
    "last_name = \"Campos\"\n",
    "\n",
    "full_name = first_name + \" \" + last_name\n",
    "print(full_name)\n",
    "\n",
    "full_name += \" is a great student!\"\n",
    "print(full_name)\n",
    "\n",
    "print(full_name[0:4])\n",
    "print(full_name[::-1].title())\n",
    "print(full_name[::2].title())\n",
    "print(full_name[::-2].title())"
   ]
  },
  {
   "cell_type": "code",
   "execution_count": 89,
   "metadata": {},
   "outputs": [
    {
     "name": "stdout",
     "output_type": "stream",
     "text": [
      "apple orange pear pineapple bananna\n",
      "apple+orange+pear+pineapple+bananna&&&&&&"
     ]
    }
   ],
   "source": [
    "word1='apple'\n",
    "word2='orange'\n",
    "word3='pear'\n",
    "word4='pineapple'\n",
    "\n",
    "print(word1, word2, word3, word4, 'bananna')\n",
    "print(word1, word2, word3, word4, 'bananna', sep='+', end='&&&&&&')\n"
   ]
  },
  {
   "cell_type": "code",
   "execution_count": 90,
   "metadata": {},
   "outputs": [
    {
     "name": "stdout",
     "output_type": "stream",
     "text": [
      "Hello\n",
      "None\n"
     ]
    }
   ],
   "source": [
    "print(print('Hello'))\n",
    "#inside prints first\n",
    "#outside says to print what was returned\n",
    "\n",
    "#******Print always returns None******"
   ]
  },
  {
   "cell_type": "markdown",
   "metadata": {
    "id": "i3JMuz-Ky3kl"
   },
   "source": [
    "##### Type Conversion"
   ]
  },
  {
   "cell_type": "code",
   "execution_count": 91,
   "metadata": {
    "id": "QnlQdwO5y3kl",
    "outputId": "b5010da5-a56a-4c46-fe79-f731926c04da"
   },
   "outputs": [
    {
     "name": "stdout",
     "output_type": "stream",
     "text": [
      "32\n",
      "32\n"
     ]
    }
   ],
   "source": [
    "number = \"32\"\n",
    "\n",
    "change_type_num = int(number)\n",
    "print(number)\n",
    "print(change_type_num)"
   ]
  },
  {
   "cell_type": "code",
   "execution_count": 92,
   "metadata": {},
   "outputs": [
    {
     "name": "stdout",
     "output_type": "stream",
     "text": [
      "34\n",
      "7\n",
      "<class 'str'>\n"
     ]
    }
   ],
   "source": [
    "num1=3\n",
    "num2='4'\n",
    "\n",
    "print(str(num1) + num2)\n",
    "print(num1 + int(num2))\n",
    "\n",
    "print(type(num2))\n",
    "#int did not change the type!"
   ]
  },
  {
   "cell_type": "code",
   "execution_count": 94,
   "metadata": {},
   "outputs": [
    {
     "data": {
      "text/plain": [
       "0.0"
      ]
     },
     "execution_count": 94,
     "metadata": {},
     "output_type": "execute_result"
    }
   ],
   "source": [
    "int()\n",
    "str()\n",
    "list()\n",
    "dict()\n",
    "tuple()\n",
    "set()\n",
    "float()\n",
    "\n",
    "# see Python built-in functions\n",
    "# https://docs.python.org/3/library/functions.html"
   ]
  },
  {
   "cell_type": "markdown",
   "metadata": {
    "id": "BH0sh06ky3kl"
   },
   "source": [
    "##### input()"
   ]
  },
  {
   "cell_type": "code",
   "execution_count": 96,
   "metadata": {
    "id": "PYfHfEshy3km",
    "outputId": "70db4549-e363-4016-c16c-0b29951b7f5a"
   },
   "outputs": [
    {
     "name": "stdout",
     "output_type": "stream",
     "text": [
      "What is your age?: 7\n",
      "7\n",
      "<class 'int'>\n",
      "8\n"
     ]
    }
   ],
   "source": [
    "# ****Input will always return a string ****-- All the time\n",
    "\n",
    "# name = input('What is your name? ')\n",
    "\n",
    "# print(name)\n",
    "\n",
    "age = int(input(\"What is your age?: \"))\n",
    "print(age)\n",
    "print(type(age))\n",
    "\n",
    "add_age = age + 1\n",
    "print(add_age)"
   ]
  },
  {
   "cell_type": "code",
   "execution_count": 97,
   "metadata": {},
   "outputs": [
    {
     "name": "stdout",
     "output_type": "stream",
     "text": [
      "What is your age?: 12\n",
      "In one year, you will be  13  years old.\n"
     ]
    }
   ],
   "source": [
    "while True:\n",
    "    age = (input(\"What is your age?: \"))\n",
    "    if age.isdigit():\n",
    "        age = int(age)\n",
    "        print(\"In one year, you will be \", age+1, \" years old.\")\n",
    "        break\n",
    "    else:\n",
    "       print(\"You must input a number!\")"
   ]
  },
  {
   "cell_type": "markdown",
   "metadata": {
    "id": "24Wp94oyy3km"
   },
   "source": [
    "##### format()"
   ]
  },
  {
   "cell_type": "code",
   "execution_count": 98,
   "metadata": {
    "id": "PgVGtdwAy3km",
    "outputId": "e1d67760-d30e-4a11-bcd1-a5e5c7e833e0"
   },
   "outputs": [
    {
     "name": "stdout",
     "output_type": "stream",
     "text": [
      "What is your age? 14\n",
      "You are 14 Joel and you are getting wiser!\n",
      "14 is a great time in life!!!\n"
     ]
    }
   ],
   "source": [
    "age = input(\"What is your age? \")\n",
    "\n",
    "result_string = \"You are {}, {} and you are getting wiser!\".format(age,name)\n",
    "print(result_string)\n",
    "\n",
    "result_again = f\"{age} is a great time in life!!!\"\n",
    "print(result_again)"
   ]
  },
  {
   "cell_type": "markdown",
   "metadata": {
    "id": "9cdGjldty3km"
   },
   "source": [
    "##### Old Way (python 2)"
   ]
  },
  {
   "cell_type": "code",
   "execution_count": 101,
   "metadata": {},
   "outputs": [],
   "source": [
    "age = '35'\n",
    "#result_str = \"You are $s years old and getting wiser\" $age"
   ]
  },
  {
   "cell_type": "code",
   "execution_count": 102,
   "metadata": {
    "id": "HKfjWyNry3km",
    "outputId": "362453ff-8f2a-4b2c-f428-ce97e34ae2b4",
    "scrolled": true
   },
   "outputs": [
    {
     "name": "stdout",
     "output_type": "stream",
     "text": [
      "You are 35 and you look great for your age!\n"
     ]
    }
   ],
   "source": [
    "result_string2 = \"You are %s and you look great for your age!\" %age\n",
    "print(result_string2)"
   ]
  },
  {
   "cell_type": "markdown",
   "metadata": {},
   "source": [
    "### f-string"
   ]
  },
  {
   "cell_type": "code",
   "execution_count": 103,
   "metadata": {},
   "outputs": [
    {
     "name": "stdout",
     "output_type": "stream",
     "text": [
      "What is your age? 67\n",
      "You are 67 years old, and you are getting wiser!\n"
     ]
    }
   ],
   "source": [
    "age = int(input(\"What is your age? \"))\n",
    "x=123\n",
    "\n",
    "result_string = \"You are {} years old, and you are getting wiser!\".format(age)\n",
    "print(result_string)"
   ]
  },
  {
   "cell_type": "markdown",
   "metadata": {
    "id": "msr5ElNGy3kn"
   },
   "source": [
    "# In-Class Exercise 1 <br>\n",
    "<p>Create a format statement that asks for color, year, make, model and prints out the results</p>"
   ]
  },
  {
   "cell_type": "code",
   "execution_count": 104,
   "metadata": {
    "id": "YBdM5KiDy3kn",
    "outputId": "13e79913-84d5-4653-cc8d-fe39b824639b"
   },
   "outputs": [
    {
     "name": "stdout",
     "output_type": "stream",
     "text": [
      "What year is your car?: 1924\n",
      "What color is your car?: blue\n",
      "What make is your car?: Chevrolet\n",
      "What model is your car?: Superior\n",
      "You drive a 1924 blue Chevrolet Superior.\n"
     ]
    }
   ],
   "source": [
    "#OUTPUT:  The car's color is blue, the year is 2019, make is honda, and model is CR-V\n",
    "\n",
    "year = input(\"What year is your car?: \")\n",
    "color = input(\"What color is your car?: \")\n",
    "make = input(\"What make is your car?: \")\n",
    "model = input(\"What model is your car?: \")\n",
    "results = f\"You drive a {year} {color} {make} {model}.\"\n",
    "        \n",
    "print(results)"
   ]
  },
  {
   "cell_type": "code",
   "execution_count": 108,
   "metadata": {},
   "outputs": [
    {
     "name": "stdout",
     "output_type": "stream",
     "text": [
      "What year is your car?: 1924\n",
      "What color is your car?: red\n",
      "What make is your car?: Cadillac\n",
      "What model is your car?: Phaeton\n",
      "You drive a 1924 red Cadillac Phaeton.\n"
     ]
    }
   ],
   "source": [
    "\n",
    "year = input(\"What year is your car?: \")\n",
    "if not year.isdigit():\n",
    "    print(\"You must input a number.\")\n",
    "    #continue\n",
    "else:\n",
    "    color = input(\"What color is your car?: \")\n",
    "    make = input(\"What make is your car?: \")\n",
    "    model = input(\"What model is your car?: \")\n",
    "    results = \"You drive a {} {} {} {}.\".format(year, color, make, model)\n",
    "\n",
    "    print(results)\n",
    "        \n",
    "\n",
    "    \n",
    "#****Working on getting the digit cycle functioning****\n",
    "# How do I get this to cycle back to the start?"
   ]
  },
  {
   "cell_type": "markdown",
   "metadata": {
    "id": "-jIHm9hwy3kn"
   },
   "source": [
    "### If Statements"
   ]
  },
  {
   "cell_type": "code",
   "execution_count": 109,
   "metadata": {},
   "outputs": [],
   "source": [
    "# Available operators: Greater(>), Less(<),Equal(==)\n",
    "# Greater or Equal(>=), Less or Equal (<=)\n",
    "\n",
    "# Truth Tree:\n",
    "# T && F = F\n",
    "# T && T = T\n",
    "# T || F = T\n",
    "# F || T = T\n",
    "# F || F = F\n"
   ]
  },
  {
   "cell_type": "code",
   "execution_count": 110,
   "metadata": {},
   "outputs": [
    {
     "data": {
      "text/plain": [
       "True"
      ]
     },
     "execution_count": 110,
     "metadata": {},
     "output_type": "execute_result"
    }
   ],
   "source": [
    "5 == 5\n",
    "bool('hello') #true\n",
    "bool(\"\") #false\n",
    "bool(0) #false\n",
    "bool(1) #true\n",
    "bool(-99) #true\n",
    "bool(99) #true\n",
    "bool([1,2,3]) #true\n",
    "bool([]) #false\n",
    "\n",
    "5<2 #true\n",
    "5<5 #false\n",
    "5<=5 #true\n",
    "7>5 #true\n",
    "4!=5 #true\n",
    "\"hello\" == 'hello' #true\n",
    "\"A\">\"a\" #false\n",
    "\"a\"> \"A\" #true\n"
   ]
  },
  {
   "cell_type": "code",
   "execution_count": 111,
   "metadata": {},
   "outputs": [
    {
     "data": {
      "text/plain": [
       "65"
      ]
     },
     "execution_count": 111,
     "metadata": {},
     "output_type": "execute_result"
    }
   ],
   "source": [
    "ord(\"A\")"
   ]
  },
  {
   "cell_type": "code",
   "execution_count": 112,
   "metadata": {},
   "outputs": [
    {
     "data": {
      "text/plain": [
       "97"
      ]
     },
     "execution_count": 112,
     "metadata": {},
     "output_type": "execute_result"
    }
   ],
   "source": [
    "ord('a')"
   ]
  },
  {
   "cell_type": "code",
   "execution_count": 113,
   "metadata": {},
   "outputs": [
    {
     "data": {
      "text/plain": [
       "122"
      ]
     },
     "execution_count": 113,
     "metadata": {},
     "output_type": "execute_result"
    }
   ],
   "source": [
    "ord('z')"
   ]
  },
  {
   "cell_type": "code",
   "execution_count": 114,
   "metadata": {},
   "outputs": [
    {
     "data": {
      "text/plain": [
       "90"
      ]
     },
     "execution_count": 114,
     "metadata": {},
     "output_type": "execute_result"
    }
   ],
   "source": [
    "ord(\"Z\")"
   ]
  },
  {
   "cell_type": "code",
   "execution_count": 115,
   "metadata": {},
   "outputs": [
    {
     "data": {
      "text/plain": [
       "'B'"
      ]
     },
     "execution_count": 115,
     "metadata": {},
     "output_type": "execute_result"
    }
   ],
   "source": [
    "chr(66)"
   ]
  },
  {
   "cell_type": "code",
   "execution_count": 116,
   "metadata": {},
   "outputs": [
    {
     "data": {
      "text/plain": [
       "'y'"
      ]
     },
     "execution_count": 116,
     "metadata": {},
     "output_type": "execute_result"
    }
   ],
   "source": [
    "chr(121)"
   ]
  },
  {
   "cell_type": "code",
   "execution_count": 117,
   "metadata": {
    "id": "g5wIRfFwy3kn",
    "outputId": "da4479dd-b77f-4617-a964-2050d9c7198b"
   },
   "outputs": [
    {
     "name": "stdout",
     "output_type": "stream",
     "text": [
      "Start of stuff\n",
      "not equal\n",
      "Num2 is greater\n"
     ]
    }
   ],
   "source": [
    "num1 = 5\n",
    "num2 = 10\n",
    "\n",
    "print(\"Start of stuff\")\n",
    "if num2 == num1:\n",
    "    print('Equal')\n",
    "else:\n",
    "    print(\"not equal\")\n",
    "    \n",
    "if num2 >= num1:\n",
    "    print(\"Num2 is greater\")\n",
    "elif num1 <= num2:\n",
    "    print(\"Num1 is less than\")\n",
    "\n"
   ]
  },
  {
   "cell_type": "code",
   "execution_count": 118,
   "metadata": {},
   "outputs": [
    {
     "name": "stdout",
     "output_type": "stream",
     "text": [
      "Num1 is less than Num2\n"
     ]
    }
   ],
   "source": [
    "num1 = 5\n",
    "num2 = 10\n",
    "\n",
    "if num2 == num1:\n",
    "    print('Equal')\n",
    "elif num1 < num2:\n",
    "    print(\"Num1 is less than Num2\")\n",
    "else:\n",
    "    print(\"Num2 is greater than Num1\")"
   ]
  },
  {
   "cell_type": "code",
   "execution_count": 119,
   "metadata": {},
   "outputs": [
    {
     "name": "stdout",
     "output_type": "stream",
     "text": [
      "33\n",
      "99\n"
     ]
    }
   ],
   "source": [
    "# Inline If Statements (one line) - Ternary Operators\n",
    "\n",
    "name = \"John\"\n",
    "age = 33 if name == \"John\" else 99\n",
    "print(age)\n",
    "\n",
    "name = \"Peter\"\n",
    "age = 33 if name == \"John\" else 99\n",
    "print(age)\n"
   ]
  },
  {
   "cell_type": "code",
   "execution_count": 120,
   "metadata": {},
   "outputs": [
    {
     "name": "stdout",
     "output_type": "stream",
     "text": [
      "33\n",
      "33\n"
     ]
    }
   ],
   "source": [
    "age = 0\n",
    "name = \"John\"\n",
    "age = 33 if name == \"John\" else 99\n",
    "print(age)\n",
    "\n",
    "age = 0\n",
    "if name == \"John\":\n",
    "    age = 33\n",
    "elif name == \"Steve\":\n",
    "    age = 99\n",
    "    \n",
    "print(age)"
   ]
  },
  {
   "cell_type": "code",
   "execution_count": 121,
   "metadata": {},
   "outputs": [
    {
     "data": {
      "text/plain": [
       "True"
      ]
     },
     "execution_count": 121,
     "metadata": {},
     "output_type": "execute_result"
    }
   ],
   "source": [
    "# Available operators: Greater(>), Less(<),Equal(==)\n",
    "# Greater or Equal(>=), Less or Equal (<=)\n",
    "\n",
    "# Truth Tree:\n",
    "# T && F = F\n",
    "# T && T = T\n",
    "# T || F = T\n",
    "# F || T = T\n",
    "# F || F = F\n",
    "\n",
    "True and True #True\n",
    "True and False #False\n",
    "True and False and True #False\n",
    "# and says if there is a false, all is false\n",
    "\n",
    "True or True #True\n",
    "True or False #True\n",
    "True or False or False or False #True\n",
    "# or says there is one True\n",
    "\n",
    "5==5 and 6==6"
   ]
  },
  {
   "cell_type": "code",
   "execution_count": 122,
   "metadata": {},
   "outputs": [
    {
     "name": "stdout",
     "output_type": "stream",
     "text": [
      "This is False1.\n"
     ]
    }
   ],
   "source": [
    "test = [1,2]\n",
    "\n",
    "if True or test[3]:\n",
    "    print('This is False1.')\n",
    "\n",
    "#short-circuiting:\n",
    "\n",
    "if False and test[3]:\n",
    "    print('This is False2.')"
   ]
  },
  {
   "cell_type": "markdown",
   "metadata": {
    "id": "nG8BbDdCy3kn"
   },
   "source": [
    "##### 'is' keyword"
   ]
  },
  {
   "cell_type": "code",
   "execution_count": 123,
   "metadata": {},
   "outputs": [
    {
     "name": "stdout",
     "output_type": "stream",
     "text": [
      "It's none.\n"
     ]
    }
   ],
   "source": [
    "# use this ONLY with none \n",
    "# this checks memory location\n",
    "\n",
    "my_var = None\n",
    "\n",
    "if my_var is None:\n",
    "    print(\"It's none.\")"
   ]
  },
  {
   "cell_type": "raw",
   "metadata": {},
   "source": [
    "\"asad\" is \"asad\"\n",
    "\n",
    "<>:1: SyntaxWarning: \"is\" with a literal. Did you mean \"==\"?\n",
    "<>:1: SyntaxWarning: \"is\" with a literal. Did you mean \"==\"?\n",
    "C:\\Users\\danan\\AppData\\Local\\Temp\\ipykernel_5084\\4285936320.py:1: SyntaxWarning: \"is\" with a literal. Did you mean \"==\"?\n",
    "  \"asad\" is \"asad"
   ]
  },
  {
   "cell_type": "raw",
   "metadata": {
    "id": "JeKNnUt1y3kn",
    "outputId": "0e90a694-7077-49f9-80d0-ee07ba5153d2",
    "scrolled": true
   },
   "source": [
    "# use the \"is\" keyword when checking for same/similar object, NOT same value\n",
    "num3 = 55\n",
    "\n",
    "if num3 is 55:\n",
    "    print(\"This is the exact number/object\")\n",
    "    \n",
    "<>:4: SyntaxWarning: \"is\" with a literal. Did you mean \"==\"?\n",
    "<>:4: SyntaxWarning: \"is\" with a literal. Did you mean \"==\"?\n",
    "C:\\Users\\danan\\AppData\\Local\\Temp\\ipykernel_20772\\2440110197.py:4: SyntaxWarning: \"is\" with a literal. Did you mean \"==\"?\n",
    "  if num3 is 55:\n"
   ]
  },
  {
   "cell_type": "code",
   "execution_count": 125,
   "metadata": {},
   "outputs": [
    {
     "data": {
      "text/plain": [
       "True"
      ]
     },
     "execution_count": 125,
     "metadata": {},
     "output_type": "execute_result"
    }
   ],
   "source": [
    "x = 'as'\n",
    "y = 'as'\n",
    "\n",
    "x is y"
   ]
  },
  {
   "cell_type": "code",
   "execution_count": 126,
   "metadata": {},
   "outputs": [
    {
     "name": "stdout",
     "output_type": "stream",
     "text": [
      "list1 is equal to list2\n",
      "list1 is NOT equal to list2\n",
      "list1 is equal to list3\n",
      "list1 is equal to list3\n",
      "[1, 2, 3, 99]\n",
      "[1, 2, 3, 99]\n",
      "[1, 2, 3]\n"
     ]
    }
   ],
   "source": [
    "list1 = [1,2,3]\n",
    "list2 = [1,2,3]\n",
    "list3 = list1\n",
    "#copy list3 = list1[:]\n",
    "\n",
    "if list1 == list2:\n",
    "    print(\"list1 is equal to list2\")\n",
    "else:\n",
    "    print(\"list1 is NOT equal to list2\")\n",
    "    \n",
    "if list1 is list2:\n",
    "    print(\"list1 is equal to list2\")\n",
    "else:\n",
    "     print(\"list1 is NOT equal to list2\")\n",
    "        \n",
    "\n",
    "if list1 == list3:\n",
    "    print(\"list1 is equal to list3\")\n",
    "else:\n",
    "    print(\"list1 is NOT equal to list3\")\n",
    "    \n",
    "if list1 is list3:\n",
    "    print(\"list1 is equal to list3\")\n",
    "else:\n",
    "     print(\"list1 is NOT equal to list3\")\n",
    "        \n",
    "list3.append(99)\n",
    "print(list3)\n",
    "print(list1)\n",
    "print(list2)"
   ]
  },
  {
   "cell_type": "markdown",
   "metadata": {
    "id": "K7NVscLLy3kn"
   },
   "source": [
    "##### 'in' keyword"
   ]
  },
  {
   "cell_type": "code",
   "execution_count": 127,
   "metadata": {},
   "outputs": [],
   "source": [
    "# Membership Check!"
   ]
  },
  {
   "cell_type": "code",
   "execution_count": 128,
   "metadata": {
    "id": "ea-rrb2My3ko",
    "outputId": "c8de6b63-b9b5-448b-877a-ea4426a98b5f"
   },
   "outputs": [
    {
     "name": "stdout",
     "output_type": "stream",
     "text": [
      "The character who lost everything...!!\n"
     ]
    }
   ],
   "source": [
    "# Check if char in name\n",
    "char_name = \"Max Payne\"\n",
    "\n",
    "if \"Max\" in char_name:\n",
    "    print(\"The character who lost everything...!!\")\n"
   ]
  },
  {
   "cell_type": "code",
   "execution_count": 129,
   "metadata": {},
   "outputs": [
    {
     "name": "stdout",
     "output_type": "stream",
     "text": [
      "Is in my class.\n"
     ]
    }
   ],
   "source": [
    "classmates = [\"Tony\", \"Caleb\", \"Lizzette\" ]\n",
    "\n",
    "if \"Tony\" in classmates:\n",
    "    print(\"Is in my class.\")"
   ]
  },
  {
   "cell_type": "markdown",
   "metadata": {
    "id": "ySj_N4MIy3ko"
   },
   "source": [
    "##### 'not in' keyword'"
   ]
  },
  {
   "cell_type": "code",
   "execution_count": 132,
   "metadata": {},
   "outputs": [
    {
     "name": "stdout",
     "output_type": "stream",
     "text": [
      "IS in my class.\n"
     ]
    }
   ],
   "source": [
    "classmates = [\"Tony\", \"Caleb\", \"Lizzette\" ]\n",
    "\n",
    "if \"Tony\" not in classmates:\n",
    "    print(\"Is NOT in my class.\")\n",
    "else:\n",
    "    print(\"IS in my class.\")"
   ]
  },
  {
   "cell_type": "code",
   "execution_count": 133,
   "metadata": {
    "id": "V7bkzG3Ly3ko",
    "outputId": "3aaaa30f-3e8d-4e9a-f446-73ffbce48bf8"
   },
   "outputs": [
    {
     "name": "stdout",
     "output_type": "stream",
     "text": [
      "a is NOT here...\n"
     ]
    }
   ],
   "source": [
    "sega_char = \"Sonic\"\n",
    "\n",
    "if 'a' not in sega_char:\n",
    "    print(\"a is NOT here...\")\n"
   ]
  },
  {
   "cell_type": "markdown",
   "metadata": {
    "id": "6fK-WjjLy3ko"
   },
   "source": [
    "# In-Class Exercise 2 <br>\n",
    "<p>Ask user for input, check to see if the letter 'p' is in the input</p>"
   ]
  },
  {
   "cell_type": "code",
   "execution_count": 136,
   "metadata": {
    "id": "Oj767UzCy3ko",
    "outputId": "deec5d85-6927-435e-d98f-c4d9e1a72c6a"
   },
   "outputs": [
    {
     "name": "stdout",
     "output_type": "stream",
     "text": [
      "What is your name? Arthur\n",
      "P is NOT found.\n"
     ]
    }
   ],
   "source": [
    "# OUTPUT: True -- if p is found\n",
    "# False -- if p is NOT found\n",
    "\n",
    "name = input(\"What is your name? \")\n",
    "result_name = \"Your name is {}.\".format(name)\n",
    "\n",
    "if 'p' not in name.lower():\n",
    "    print(\"P is NOT found.\")\n",
    "else:\n",
    "    print(result_name)\n",
    "\n",
    "# Review f function!!!"
   ]
  },
  {
   "cell_type": "code",
   "execution_count": 138,
   "metadata": {},
   "outputs": [
    {
     "name": "stdout",
     "output_type": "stream",
     "text": [
      "What is your name? Perpendicular\n",
      "P is in the name.\n"
     ]
    }
   ],
   "source": [
    "# Kevin's solution\n",
    "name = input(\"What is your name? \")\n",
    "if 'p' in name.lower():\n",
    "    print(\"P is in the name.\")\n",
    "else:\n",
    "    print(\"P is NOT in the name.\")"
   ]
  },
  {
   "cell_type": "code",
   "execution_count": 139,
   "metadata": {
    "scrolled": true
   },
   "outputs": [
    {
     "name": "stdout",
     "output_type": "stream",
     "text": [
      "What is your name? Peter\n",
      "P is in the name.\n"
     ]
    }
   ],
   "source": [
    "#Ternary\n",
    "# NOT WORK:if 'p' in input(\"What is your name?\").lower(): print(\"P is in the name.\") else: print(\"P is NOT in the name.\")\n",
    "\n",
    "print(\"P is in the name.\") if 'p' in input (\"What is your name? \").lower() else print(\"P is NOT in the name.\")"
   ]
  },
  {
   "cell_type": "code",
   "execution_count": 140,
   "metadata": {},
   "outputs": [
    {
     "name": "stdout",
     "output_type": "stream",
     "text": [
      "Where do you live?ON the Street Where You Live\n",
      "You live on ON the Street Where You Live street.\n",
      "p is NOT here...\n"
     ]
    }
   ],
   "source": [
    "street=input(\"Where do you live?\")\n",
    "result_string = \"You live on {} street.\".format(street)\n",
    "print(result_string)\n",
    "\n",
    "if 'p' not in street:\n",
    "    print(\"p is NOT here...\")"
   ]
  },
  {
   "cell_type": "markdown",
   "metadata": {
    "id": "7bmQFbt7y3ko"
   },
   "source": [
    "## Using 'and'/'or' with If Statements"
   ]
  },
  {
   "cell_type": "code",
   "execution_count": 141,
   "metadata": {
    "id": "wpVKIafJy3ko",
    "outputId": "0a695826-f237-4c05-bb65-1a1a097d0d51"
   },
   "outputs": [
    {
     "name": "stdout",
     "output_type": "stream",
     "text": [
      "True and True\n",
      "True and False\n"
     ]
    }
   ],
   "source": [
    "num_11 = 15\n",
    "num_12 = 3\n",
    "num_13 = 10\n",
    "num_14 = 3\n",
    "\n",
    "# If with \"and\" statment\n",
    "if num_11 / 5 == num_12 and num_13 - 7 == num_14:\n",
    "    print(\"True and True\")\n",
    "    \n",
    "# If with \"or\" statement\n",
    "if num_11 > num_12 or num_13 == num_14:\n",
    "    print(\"True and False\")"
   ]
  },
  {
   "cell_type": "markdown",
   "metadata": {
    "id": "DazKD80Jy3ko"
   },
   "source": [
    "### Elif Statements"
   ]
  },
  {
   "cell_type": "code",
   "execution_count": 142,
   "metadata": {
    "id": "tGfgc5zIy3kp",
    "outputId": "6568014e-3046-4fad-e261-17268199fa7f"
   },
   "outputs": [
    {
     "name": "stdout",
     "output_type": "stream",
     "text": [
      "The name is Max\n"
     ]
    }
   ],
   "source": [
    "first_name = \"Max\"\n",
    "\n",
    "if first_name == 'Smith':\n",
    "    print(\"The name is Smith\")\n",
    "elif first_name != 'Max':\n",
    "    print(\"The name is NOT Max\")\n",
    "else:\n",
    "    print(\"The name is Max\")"
   ]
  },
  {
   "cell_type": "markdown",
   "metadata": {
    "id": "H7mNQPV4y3kp"
   },
   "source": [
    "### Else Statements"
   ]
  },
  {
   "cell_type": "code",
   "execution_count": 143,
   "metadata": {
    "id": "prU-bW06y3kp"
   },
   "outputs": [],
   "source": [
    "# see above"
   ]
  },
  {
   "cell_type": "markdown",
   "metadata": {
    "id": "DpJ-phv7y3kp"
   },
   "source": [
    "### For Loops"
   ]
  },
  {
   "cell_type": "code",
   "execution_count": 144,
   "metadata": {
    "id": "-HNdMBvVy3kp",
    "outputId": "ad56bd7e-d9e8-4956-dc22-dc2efa95b6b9"
   },
   "outputs": [
    {
     "name": "stdout",
     "output_type": "stream",
     "text": [
      "J\n",
      "o\n",
      "e\n",
      "l\n",
      " \n",
      "C\n",
      "a\n",
      "r\n",
      "t\n",
      "e\n",
      "r\n",
      "J\n",
      "o\n",
      "e\n",
      "l\n",
      " \n",
      "C\n",
      "a\n",
      "r\n",
      "t\n",
      "e\n",
      "r\n"
     ]
    }
   ],
   "source": [
    "# for keyword, counter, in keyword, condition\n",
    "\n",
    "# for [placeholder] in [iterable]\n",
    "\n",
    "# for i in range(10):\n",
    "#     print(i)\n",
    "    \n",
    "name = \"Joel Carter\"\n",
    "\n",
    "for letter in name:\n",
    "    print(letter)\n",
    "    \n",
    "for i in range(len(name)):\n",
    "    print(name[i])"
   ]
  },
  {
   "cell_type": "code",
   "execution_count": 147,
   "metadata": {
    "scrolled": true
   },
   "outputs": [
    {
     "name": "stdout",
     "output_type": "stream",
     "text": [
      "['J']\n",
      "['J', 'o']\n",
      "['J', 'o', 'e']\n",
      "['J', 'o', 'e', 'l']\n",
      "['J', 'o', 'e', 'l', ' ']\n",
      "['J', 'o', 'e', 'l', ' ', 'C']\n",
      "['J', 'o', 'e', 'l', ' ', 'C', 'a']\n",
      "['J', 'o', 'e', 'l', ' ', 'C', 'a', 'r']\n",
      "['J', 'o', 'e', 'l', ' ', 'C', 'a', 'r', 't']\n",
      "['J', 'o', 'e', 'l', ' ', 'C', 'a', 'r', 't', 'e']\n",
      "['J', 'o', 'e', 'l', ' ', 'C', 'a', 'r', 't', 'e', 'r']\n",
      "['J', 'o', 'e', 'l', ' ', 'C', 'a', 'r', 't', 'e', 'r']\n"
     ]
    }
   ],
   "source": [
    "output = []\n",
    "for i in range(len(name)):\n",
    "    output.append(name[i])\n",
    "    i+= 1\n",
    "    print(output)"
   ]
  },
  {
   "cell_type": "code",
   "execution_count": 148,
   "metadata": {},
   "outputs": [
    {
     "name": "stdout",
     "output_type": "stream",
     "text": [
      "['J', 'o', 'e', 'l', ' ', 'C', 'a', 'r', 't', 'e', 'r']\n"
     ]
    }
   ],
   "source": [
    "print(output)"
   ]
  },
  {
   "cell_type": "code",
   "execution_count": 149,
   "metadata": {},
   "outputs": [
    {
     "name": "stdout",
     "output_type": "stream",
     "text": [
      "Yo Yo Yo\n",
      "*\n",
      "C\n",
      "$\n",
      "*\n",
      "o\n",
      "$\n",
      "*\n",
      "n\n",
      "$\n",
      "*\n",
      "n\n",
      "$\n",
      "*\n",
      "o\n",
      "$\n",
      "*\n",
      "r\n",
      "$\n",
      "Meh\n"
     ]
    }
   ],
   "source": [
    "name = \"Connor\"\n",
    "print(\"Yo Yo Yo\")\n",
    "for letter in name:\n",
    "    print('*')\n",
    "    print(letter)\n",
    "    print('$')\n",
    "print('Meh')"
   ]
  },
  {
   "cell_type": "markdown",
   "metadata": {
    "id": "FzibRympy3kp"
   },
   "source": [
    "##### Using 'in' keyword"
   ]
  },
  {
   "cell_type": "code",
   "execution_count": 150,
   "metadata": {
    "id": "VDoMuoyEy3kp",
    "scrolled": true
   },
   "outputs": [
    {
     "name": "stdout",
     "output_type": "stream",
     "text": [
      "tacos\n",
      "<class 'str'>\n",
      "123\n",
      "<class 'int'>\n",
      "123.5\n",
      "<class 'float'>\n",
      "[3, 4, 5]\n",
      "<class 'list'>\n",
      "{'key': 'value'}\n",
      "<class 'dict'>\n"
     ]
    }
   ],
   "source": [
    "# see above\n",
    "my_list = ['tacos', 123, 123.5, [3,4,5], {\"key\":\"value\"}]\n",
    "\n",
    "for thing in my_list:\n",
    "    print(thing)\n",
    "    print(type(thing))"
   ]
  },
  {
   "cell_type": "code",
   "execution_count": 151,
   "metadata": {},
   "outputs": [
    {
     "name": "stdout",
     "output_type": "stream",
     "text": [
      "10\n",
      "101\n",
      "203\n"
     ]
    }
   ],
   "source": [
    "new_list = [8,99,201]\n",
    "\n",
    "for n in new_list:\n",
    "    print(n+2)"
   ]
  },
  {
   "cell_type": "code",
   "execution_count": 152,
   "metadata": {},
   "outputs": [
    {
     "name": "stdout",
     "output_type": "stream",
     "text": [
      "Perry\n",
      "Caleb\n",
      "Perry\n",
      "Diana\n",
      "Gulfem\n"
     ]
    }
   ],
   "source": [
    "myclass = [\"Diana\", \"Gulfem\", \"Perry\", \"Caleb\"]\n",
    "\n",
    "print(myclass[2])\n",
    "print(myclass[-1])\n",
    "print(myclass[-2])\n",
    "print(myclass[0])\n",
    "print(myclass[1])"
   ]
  },
  {
   "cell_type": "code",
   "execution_count": 153,
   "metadata": {},
   "outputs": [
    {
     "data": {
      "text/plain": [
       "4"
      ]
     },
     "execution_count": 153,
     "metadata": {},
     "output_type": "execute_result"
    }
   ],
   "source": [
    "len(myclass)"
   ]
  },
  {
   "cell_type": "code",
   "execution_count": 154,
   "metadata": {},
   "outputs": [
    {
     "data": {
      "text/plain": [
       "[0, 1, 2, 3]"
      ]
     },
     "execution_count": 154,
     "metadata": {},
     "output_type": "execute_result"
    }
   ],
   "source": [
    "list(range(4))"
   ]
  },
  {
   "cell_type": "code",
   "execution_count": 155,
   "metadata": {
    "scrolled": true
   },
   "outputs": [
    {
     "name": "stdout",
     "output_type": "stream",
     "text": [
      "0\n",
      "['Diana', 'Gulfem', 'Perry', 'Caleb']\n",
      "1\n",
      "['Diana', 'Gulfem', 'Perry', 'Caleb']\n",
      "2\n",
      "['Diana', 'Gulfem', 'Perry', 'Caleb']\n",
      "3\n",
      "['Diana', 'Gulfem', 'Perry', 'Caleb']\n"
     ]
    }
   ],
   "source": [
    "# Access by Index\n",
    "\n",
    "for index in range(len(myclass)):\n",
    "    print(index)\n",
    "    print(myclass[0:4])\n",
    "   "
   ]
  },
  {
   "cell_type": "code",
   "execution_count": 156,
   "metadata": {
    "scrolled": true
   },
   "outputs": [
    {
     "name": "stdout",
     "output_type": "stream",
     "text": [
      "Diana\n",
      "Gulfem\n",
      "Perry\n",
      "Caleb\n"
     ]
    }
   ],
   "source": [
    " for index in range(len(myclass)):\n",
    "        print(myclass[index])"
   ]
  },
  {
   "cell_type": "code",
   "execution_count": 157,
   "metadata": {},
   "outputs": [
    {
     "data": {
      "text/plain": [
       "[(0, 'Diana'), (1, 'Gulfem'), (2, 'Perry'), (3, 'Caleb')]"
      ]
     },
     "execution_count": 157,
     "metadata": {},
     "output_type": "execute_result"
    }
   ],
   "source": [
    "# index and object at same time\n",
    "\n",
    "enumerate(myclass)\n",
    "list(enumerate(myclass)) # result is a TUPLE"
   ]
  },
  {
   "cell_type": "code",
   "execution_count": 158,
   "metadata": {
    "scrolled": true
   },
   "outputs": [
    {
     "name": "stdout",
     "output_type": "stream",
     "text": [
      "1\n",
      "2\n"
     ]
    }
   ],
   "source": [
    "a,b=(1,2)\n",
    "print(a)\n",
    "print(b)"
   ]
  },
  {
   "cell_type": "code",
   "execution_count": 159,
   "metadata": {
    "scrolled": true
   },
   "outputs": [
    {
     "name": "stdout",
     "output_type": "stream",
     "text": [
      "Diana is at index: 0\n",
      "Gulfem is at index: 1\n",
      "Perry is at index: 2\n",
      "Caleb is at index: 3\n"
     ]
    }
   ],
   "source": [
    "for index, name in enumerate(myclass):\n",
    "    print(name, \"is at index:\", index)"
   ]
  },
  {
   "cell_type": "code",
   "execution_count": 160,
   "metadata": {},
   "outputs": [
    {
     "name": "stdout",
     "output_type": "stream",
     "text": [
      "1\n",
      "2\n",
      "3\n",
      "4\n",
      "5\n",
      "6\n",
      "7\n",
      "8\n",
      "9\n",
      "10\n",
      "11\n",
      "12\n",
      "13\n",
      "14\n",
      "15\n",
      "16\n",
      "17\n",
      "18\n",
      "19\n",
      "20\n",
      "21\n",
      "22\n",
      "23\n",
      "24\n",
      "25\n",
      "26\n",
      "27\n",
      "28\n",
      "29\n",
      "30\n",
      "31\n",
      "32\n",
      "33\n",
      "34\n",
      "35\n",
      "36\n",
      "37\n",
      "38\n",
      "39\n",
      "40\n",
      "41\n",
      "42\n",
      "43\n",
      "44\n",
      "45\n",
      "46\n",
      "47\n",
      "48\n",
      "49\n",
      "50\n",
      "51\n",
      "52\n",
      "53\n",
      "54\n",
      "55\n",
      "56\n",
      "57\n",
      "58\n",
      "59\n",
      "60\n",
      "61\n",
      "62\n",
      "63\n",
      "64\n",
      "65\n",
      "66\n",
      "67\n",
      "68\n",
      "69\n",
      "70\n",
      "71\n",
      "72\n",
      "73\n",
      "74\n",
      "75\n",
      "76\n",
      "77\n",
      "78\n",
      "79\n",
      "80\n",
      "81\n",
      "82\n",
      "83\n",
      "84\n",
      "85\n",
      "86\n",
      "87\n",
      "88\n",
      "89\n",
      "90\n",
      "91\n",
      "92\n",
      "93\n",
      "94\n",
      "95\n",
      "96\n",
      "97\n",
      "98\n",
      "99\n",
      "100\n"
     ]
    }
   ],
   "source": [
    "for i in range(1,101):\n",
    "    print(i)"
   ]
  },
  {
   "cell_type": "markdown",
   "metadata": {
    "id": "9zk6lgIJy3kp"
   },
   "source": [
    "##### Continue Statement"
   ]
  },
  {
   "cell_type": "code",
   "execution_count": 161,
   "metadata": {
    "id": "wUr22wFJy3kq"
   },
   "outputs": [],
   "source": [
    "# will continue to next iteration"
   ]
  },
  {
   "cell_type": "code",
   "execution_count": 162,
   "metadata": {
    "scrolled": true
   },
   "outputs": [
    {
     "name": "stdout",
     "output_type": "stream",
     "text": [
      "Connor starts with 'c'.\n",
      "Caleb starts with 'c'.\n",
      "Perry is just as cool as the others.\n",
      "\n",
      "Tony is just as cool as the others.\n",
      "\n",
      "Lizzette is just as cool as the others.\n",
      "\n",
      "Carol starts with 'c'.\n"
     ]
    }
   ],
   "source": [
    "myclass = [\"Connor\", \"Caleb\", \"Perry\", \"Tony\", \"Lizzette\", \"Carol\"]\n",
    "\n",
    "for index, name in enumerate(myclass):\n",
    "    if name[0].lower() == 'c':\n",
    "        print(name, \"starts with 'c'.\")\n",
    "        continue #means to stop looking at the first and go back up to the next.\n",
    "        print(\"The index for you is\", index, '\\n')\n",
    "    else:\n",
    "        print(f\"{name} is just as cool as the others.\\n\")"
   ]
  },
  {
   "cell_type": "code",
   "execution_count": 163,
   "metadata": {},
   "outputs": [
    {
     "name": "stdout",
     "output_type": "stream",
     "text": [
      "Hey, you are here!\n",
      "Hey, you are here!\n",
      "3\n",
      "2\n",
      "1\n"
     ]
    }
   ],
   "source": [
    "mylist = [5,4,3,2,1]\n",
    "\n",
    "for n in mylist:\n",
    "    if n <4:\n",
    "        print(n)\n",
    "        continue\n",
    "    print(\"Hey, you are here!\")\n",
    "    "
   ]
  },
  {
   "cell_type": "code",
   "execution_count": 164,
   "metadata": {
    "id": "IoUtTNfVy3kq",
    "outputId": "790aa56e-fde7-42ce-bf23-b3e206e10253"
   },
   "outputs": [
    {
     "name": "stdout",
     "output_type": "stream",
     "text": [
      "0\n",
      "1\n",
      "2\n",
      "3\n",
      "4\n",
      "6\n",
      "7\n",
      "8\n",
      "9\n",
      "10\n",
      "11\n",
      "12\n",
      "13\n",
      "14\n",
      "15\n",
      "16\n",
      "17\n",
      "18\n",
      "19\n"
     ]
    }
   ],
   "source": [
    "for i in range(20):\n",
    "    if i == 5:\n",
    "        continue\n",
    "    print(i)"
   ]
  },
  {
   "cell_type": "markdown",
   "metadata": {
    "id": "zMHVWSufy3kq"
   },
   "source": [
    "##### Break Statement"
   ]
  },
  {
   "cell_type": "code",
   "execution_count": 165,
   "metadata": {
    "id": "ofXX3Qm6y3kq"
   },
   "outputs": [],
   "source": [
    "# will break out of current loop"
   ]
  },
  {
   "cell_type": "code",
   "execution_count": 166,
   "metadata": {},
   "outputs": [
    {
     "name": "stdout",
     "output_type": "stream",
     "text": [
      "Connor starts with 'c'.\n"
     ]
    }
   ],
   "source": [
    "myclass = [\"Connor\", \"Caleb\", \"Perry\", \"Tony\", \"Lizzette\", \"Carol\"]\n",
    "\n",
    "for index, name in enumerate(myclass):\n",
    "    if name[0].lower() == 'c':\n",
    "        print(name, \"starts with 'c'.\")\n",
    "        break #stop!\n",
    "        print(\"The index for you is\", index, '\\n')\n",
    "    else:\n",
    "        print(f\"{name} is just as cool as the others.\\n\")"
   ]
  },
  {
   "cell_type": "code",
   "execution_count": 167,
   "metadata": {},
   "outputs": [
    {
     "name": "stdout",
     "output_type": "stream",
     "text": [
      "Hey, you are here!\n",
      "Hey, you are here!\n",
      "3\n"
     ]
    }
   ],
   "source": [
    "mylist = [5,4,3,2,1]\n",
    "\n",
    "for n in mylist:\n",
    "    if n <4:\n",
    "        print(n)\n",
    "        break\n",
    "    print(\"Hey, you are here!\")"
   ]
  },
  {
   "cell_type": "code",
   "execution_count": 168,
   "metadata": {
    "id": "W5aQN6Yzy3kq",
    "outputId": "59b5a51b-6c3a-44ef-821e-0e82513e54ae"
   },
   "outputs": [
    {
     "name": "stdout",
     "output_type": "stream",
     "text": [
      "0\n",
      "1\n",
      "2\n",
      "3\n",
      "4\n"
     ]
    }
   ],
   "source": [
    "for i in range(20):\n",
    "    if i == 5:\n",
    "        break\n",
    "    print(i)"
   ]
  },
  {
   "cell_type": "markdown",
   "metadata": {
    "id": "MuxoTaiBy3kq"
   },
   "source": [
    "##### Pass Statement"
   ]
  },
  {
   "cell_type": "code",
   "execution_count": 169,
   "metadata": {
    "id": "6MKIMZDqy3kq"
   },
   "outputs": [],
   "source": [
    "# mostly used as a placeholder, and will continue on same iteration"
   ]
  },
  {
   "cell_type": "code",
   "execution_count": 170,
   "metadata": {
    "id": "MTQN5pP4y3kq"
   },
   "outputs": [],
   "source": [
    "for i in name:\n",
    "    pass # TODO: COME BACK AND FINISH IMPLEMENTATION"
   ]
  },
  {
   "cell_type": "code",
   "execution_count": 171,
   "metadata": {},
   "outputs": [
    {
     "name": "stdout",
     "output_type": "stream",
     "text": [
      "hello\n"
     ]
    }
   ],
   "source": [
    "if True:\n",
    "    pass\n",
    "print('hello')"
   ]
  },
  {
   "cell_type": "markdown",
   "metadata": {
    "id": "BwhW9Vm_y3kq"
   },
   "source": [
    "##### Double For Loops"
   ]
  },
  {
   "cell_type": "code",
   "execution_count": 172,
   "metadata": {
    "id": "G0YVOlnny3kr",
    "outputId": "864538c6-c029-43ae-d6cb-d6401b944f85"
   },
   "outputs": [
    {
     "name": "stdout",
     "output_type": "stream",
     "text": [
      "i=0 j=0 and total=1\n",
      "i=0 j=1 and total=2\n",
      "i=0 j=2 and total=3\n",
      "i=0 j=3 and total=4\n",
      "i=0 j=4 and total=5\n",
      "i=1 j=0 and total=6\n",
      "i=1 j=1 and total=7\n",
      "i=1 j=2 and total=8\n",
      "i=1 j=3 and total=9\n",
      "i=1 j=4 and total=10\n",
      "i=2 j=0 and total=11\n",
      "i=2 j=1 and total=12\n",
      "i=2 j=2 and total=13\n",
      "i=2 j=3 and total=14\n",
      "i=2 j=4 and total=15\n",
      "i=3 j=0 and total=16\n",
      "i=3 j=1 and total=17\n",
      "i=3 j=2 and total=18\n",
      "i=3 j=3 and total=19\n",
      "i=3 j=4 and total=20\n",
      "i=4 j=0 and total=21\n",
      "i=4 j=1 and total=22\n",
      "i=4 j=2 and total=23\n",
      "i=4 j=3 and total=24\n",
      "i=4 j=4 and total=25\n"
     ]
    }
   ],
   "source": [
    "counter=0\n",
    "for i in range(5):\n",
    "    for j in range(5):\n",
    "        counter += 1\n",
    "        print(f\"i={i} j={j} and total={counter}\")"
   ]
  },
  {
   "cell_type": "code",
   "execution_count": 173,
   "metadata": {},
   "outputs": [
    {
     "name": "stdout",
     "output_type": "stream",
     "text": [
      "i =  0 j =  0\n",
      "i =  0 j =  1\n",
      "i =  0 j =  2\n",
      "i =  0 j =  3\n",
      "i =  0 j =  4\n",
      "i =  1 j =  0\n",
      "i =  1 j =  1\n",
      "i =  1 j =  2\n",
      "i =  1 j =  3\n",
      "i =  1 j =  4\n",
      "i =  2 j =  0\n",
      "i =  2 j =  1\n",
      "i =  2 j =  2\n",
      "i =  2 j =  3\n",
      "i =  2 j =  4\n",
      "i =  3 j =  0\n",
      "i =  3 j =  1\n",
      "i =  3 j =  2\n",
      "i =  3 j =  3\n",
      "i =  3 j =  4\n",
      "i =  4 j =  0\n",
      "i =  4 j =  1\n",
      "i =  4 j =  2\n",
      "i =  4 j =  3\n",
      "i =  4 j =  4\n"
     ]
    }
   ],
   "source": [
    "counter=0\n",
    "for i in range(5):\n",
    "    for j in range(5):\n",
    "        print(\"i = \", i, \"j = \", j)"
   ]
  },
  {
   "cell_type": "markdown",
   "metadata": {
    "id": "Xp4zUeB0y3kr"
   },
   "source": [
    "### While Loops"
   ]
  },
  {
   "cell_type": "code",
   "execution_count": 175,
   "metadata": {
    "id": "mh_ZjaJXy3kr",
    "outputId": "46124fde-857f-4af5-e330-491b1098409d"
   },
   "outputs": [
    {
     "name": "stdout",
     "output_type": "stream",
     "text": [
      "1\n",
      "2\n",
      "3\n",
      "4\n",
      "5\n",
      "6\n",
      "7\n",
      "8\n",
      "9\n",
      "10\n"
     ]
    }
   ],
   "source": [
    "# while [Boolean] - until condition changes from True to False\n",
    "# while keyword, condition statement\n",
    "# based on the conditional Statement\n",
    "\n",
    "num = 0\n",
    "while num < 10:\n",
    "    num += 1\n",
    "    print(num)"
   ]
  },
  {
   "cell_type": "code",
   "execution_count": 176,
   "metadata": {},
   "outputs": [],
   "source": [
    "#Infinite Loop\n",
    "# Don't DO THIS!!!!!\n",
    "\n",
    "#num = 0\n",
    "#while num < 10:\n",
    "    #print(num)\n",
    "    #num += 1"
   ]
  },
  {
   "cell_type": "markdown",
   "metadata": {
    "id": "GDaHT-nty3kt"
   },
   "source": [
    "##### Looping 'While True'"
   ]
  },
  {
   "cell_type": "code",
   "execution_count": 177,
   "metadata": {},
   "outputs": [
    {
     "name": "stdout",
     "output_type": "stream",
     "text": [
      "hello\n",
      "hello\n",
      "hello\n",
      "hello\n",
      "hello\n"
     ]
    }
   ],
   "source": [
    "x=0\n",
    "while True:\n",
    "    print('hello')\n",
    "    x+=1\n",
    "    if x==5:\n",
    "        break\n"
   ]
  },
  {
   "cell_type": "code",
   "execution_count": 178,
   "metadata": {},
   "outputs": [
    {
     "name": "stdout",
     "output_type": "stream",
     "text": [
      "What do you want to do? Quit or Continue? continue\n",
      "What do you want to do? Quit or Continue? jiipqitre\n",
      "That was not a choice.\n",
      "What do you want to do? Quit or Continue? quit\n",
      "Game Over\n"
     ]
    }
   ],
   "source": [
    "while True:\n",
    "    user_input= input(\"What do you want to do? Quit or Continue? \")\n",
    "    if user_input.lower() == 'quit':\n",
    "        break\n",
    "    elif user_input.lower() == 'continue':\n",
    "        continue\n",
    "    print(\"That was not a choice.\")\n",
    "print(\"Game Over\")"
   ]
  },
  {
   "cell_type": "code",
   "execution_count": 179,
   "metadata": {
    "id": "0luJ2a8zy3kt",
    "outputId": "a530d3d0-41a2-4158-fb6d-65f9826e48ff"
   },
   "outputs": [
    {
     "name": "stdout",
     "output_type": "stream",
     "text": [
      "Infinite Loop\n"
     ]
    }
   ],
   "source": [
    "game_over = False\n",
    "\n",
    "while True:\n",
    "    print(\"Infinite Loop\")\n",
    "    if game_over == False:\n",
    "        break"
   ]
  },
  {
   "cell_type": "markdown",
   "metadata": {
    "id": "NYya-gBmy3kt"
   },
   "source": [
    "##### While & For Loops Used Together"
   ]
  },
  {
   "cell_type": "code",
   "execution_count": 180,
   "metadata": {
    "id": "BLCUJZbiy3ku",
    "outputId": "0536be45-246f-4818-fba9-e3150ad3ef9b"
   },
   "outputs": [
    {
     "name": "stdout",
     "output_type": "stream",
     "text": [
      "\n",
      " While Loop Iteration:  0\n",
      "For Loop Iteration:  0\n",
      "Total times loop ran 1\n",
      "For Loop Iteration:  1\n",
      "Total times loop ran 2\n",
      "For Loop Iteration:  2\n",
      "Total times loop ran 3\n",
      "For Loop Iteration:  3\n",
      "Total times loop ran 4\n",
      "For Loop Iteration:  4\n",
      "Total times loop ran 5\n",
      "\n",
      " While Loop Iteration:  1\n",
      "For Loop Iteration:  0\n",
      "Total times loop ran 6\n",
      "For Loop Iteration:  1\n",
      "Total times loop ran 7\n",
      "For Loop Iteration:  2\n",
      "Total times loop ran 8\n",
      "For Loop Iteration:  3\n",
      "Total times loop ran 9\n",
      "For Loop Iteration:  4\n",
      "Total times loop ran 10\n",
      "\n",
      " While Loop Iteration:  2\n",
      "For Loop Iteration:  0\n",
      "Total times loop ran 11\n",
      "For Loop Iteration:  1\n",
      "Total times loop ran 12\n",
      "For Loop Iteration:  2\n",
      "Total times loop ran 13\n",
      "For Loop Iteration:  3\n",
      "Total times loop ran 14\n",
      "For Loop Iteration:  4\n",
      "Total times loop ran 15\n",
      "\n",
      " While Loop Iteration:  3\n",
      "For Loop Iteration:  0\n",
      "Total times loop ran 16\n",
      "For Loop Iteration:  1\n",
      "Total times loop ran 17\n",
      "For Loop Iteration:  2\n",
      "Total times loop ran 18\n",
      "For Loop Iteration:  3\n",
      "Total times loop ran 19\n",
      "For Loop Iteration:  4\n",
      "Total times loop ran 20\n",
      "\n",
      " While Loop Iteration:  4\n",
      "For Loop Iteration:  0\n",
      "Total times loop ran 21\n",
      "For Loop Iteration:  1\n",
      "Total times loop ran 22\n",
      "For Loop Iteration:  2\n",
      "Total times loop ran 23\n",
      "For Loop Iteration:  3\n",
      "Total times loop ran 24\n",
      "For Loop Iteration:  4\n",
      "Total times loop ran 25\n"
     ]
    }
   ],
   "source": [
    "num = 0\n",
    "total = 0\n",
    "\n",
    "while num < 5:\n",
    "    print(\"\\n While Loop Iteration: \", num)\n",
    "    for i in range(5):\n",
    "        total +=1\n",
    "        print(\"For Loop Iteration: \", i)\n",
    "        print(\"Total times loop ran\", total)\n",
    "        \n",
    "    num += 1\n"
   ]
  },
  {
   "cell_type": "markdown",
   "metadata": {
    "id": "-UK4eWlvy3ku"
   },
   "source": [
    "### Built-In Functions"
   ]
  },
  {
   "cell_type": "markdown",
   "metadata": {},
   "source": [
    "dir()"
   ]
  },
  {
   "cell_type": "code",
   "execution_count": null,
   "metadata": {},
   "outputs": [],
   "source": []
  },
  {
   "cell_type": "markdown",
   "metadata": {
    "id": "FSRMjrH5y3ku"
   },
   "source": [
    "##### range()"
   ]
  },
  {
   "cell_type": "code",
   "execution_count": 181,
   "metadata": {
    "id": "_Q_3ut0dy3ku",
    "outputId": "16538948-d903-4313-9ca2-544089c606d4"
   },
   "outputs": [
    {
     "name": "stdout",
     "output_type": "stream",
     "text": [
      "2\n",
      "4\n",
      "6\n",
      "8\n",
      "10\n",
      "12\n",
      "14\n",
      "16\n",
      "18\n"
     ]
    }
   ],
   "source": [
    "#Start, Stop, Step\n",
    "for i in range(2, 20, 2):\n",
    "    print(i)"
   ]
  },
  {
   "cell_type": "markdown",
   "metadata": {
    "id": "vKso9a1sy3ku"
   },
   "source": [
    "##### len()"
   ]
  },
  {
   "cell_type": "code",
   "execution_count": 182,
   "metadata": {
    "id": "kztDFLcNy3ku",
    "outputId": "a3e0811d-1b1d-4198-d696-daf3d5be8310"
   },
   "outputs": [
    {
     "name": "stdout",
     "output_type": "stream",
     "text": [
      "4\n"
     ]
    }
   ],
   "source": [
    "# check Length of variable\n",
    "name = \"Max \"\n",
    "\n",
    "length = len(name)\n",
    "print(length)"
   ]
  },
  {
   "cell_type": "markdown",
   "metadata": {
    "id": "0GuUwnc2y3kv"
   },
   "source": [
    "##### help()"
   ]
  },
  {
   "cell_type": "code",
   "execution_count": 183,
   "metadata": {
    "id": "ffrpmNB6y3kv",
    "outputId": "0fe9c356-517b-450a-b43a-2498e1195735"
   },
   "outputs": [
    {
     "name": "stdout",
     "output_type": "stream",
     "text": [
      "Help on class range in module builtins:\n",
      "\n",
      "class range(object)\n",
      " |  range(stop) -> range object\n",
      " |  range(start, stop[, step]) -> range object\n",
      " |  \n",
      " |  Return an object that produces a sequence of integers from start (inclusive)\n",
      " |  to stop (exclusive) by step.  range(i, j) produces i, i+1, i+2, ..., j-1.\n",
      " |  start defaults to 0, and stop is omitted!  range(4) produces 0, 1, 2, 3.\n",
      " |  These are exactly the valid indices for a list of 4 elements.\n",
      " |  When step is given, it specifies the increment (or decrement).\n",
      " |  \n",
      " |  Methods defined here:\n",
      " |  \n",
      " |  __bool__(self, /)\n",
      " |      True if self else False\n",
      " |  \n",
      " |  __contains__(self, key, /)\n",
      " |      Return key in self.\n",
      " |  \n",
      " |  __eq__(self, value, /)\n",
      " |      Return self==value.\n",
      " |  \n",
      " |  __ge__(self, value, /)\n",
      " |      Return self>=value.\n",
      " |  \n",
      " |  __getattribute__(self, name, /)\n",
      " |      Return getattr(self, name).\n",
      " |  \n",
      " |  __getitem__(self, key, /)\n",
      " |      Return self[key].\n",
      " |  \n",
      " |  __gt__(self, value, /)\n",
      " |      Return self>value.\n",
      " |  \n",
      " |  __hash__(self, /)\n",
      " |      Return hash(self).\n",
      " |  \n",
      " |  __iter__(self, /)\n",
      " |      Implement iter(self).\n",
      " |  \n",
      " |  __le__(self, value, /)\n",
      " |      Return self<=value.\n",
      " |  \n",
      " |  __len__(self, /)\n",
      " |      Return len(self).\n",
      " |  \n",
      " |  __lt__(self, value, /)\n",
      " |      Return self<value.\n",
      " |  \n",
      " |  __ne__(self, value, /)\n",
      " |      Return self!=value.\n",
      " |  \n",
      " |  __reduce__(...)\n",
      " |      Helper for pickle.\n",
      " |  \n",
      " |  __repr__(self, /)\n",
      " |      Return repr(self).\n",
      " |  \n",
      " |  __reversed__(...)\n",
      " |      Return a reverse iterator.\n",
      " |  \n",
      " |  count(...)\n",
      " |      rangeobject.count(value) -> integer -- return number of occurrences of value\n",
      " |  \n",
      " |  index(...)\n",
      " |      rangeobject.index(value) -> integer -- return index of value.\n",
      " |      Raise ValueError if the value is not present.\n",
      " |  \n",
      " |  ----------------------------------------------------------------------\n",
      " |  Static methods defined here:\n",
      " |  \n",
      " |  __new__(*args, **kwargs) from builtins.type\n",
      " |      Create and return a new object.  See help(type) for accurate signature.\n",
      " |  \n",
      " |  ----------------------------------------------------------------------\n",
      " |  Data descriptors defined here:\n",
      " |  \n",
      " |  start\n",
      " |  \n",
      " |  step\n",
      " |  \n",
      " |  stop\n",
      "\n"
     ]
    }
   ],
   "source": [
    "# Use this function to view more info about a python function (With a DOCSTRING)\n",
    "help(range)"
   ]
  },
  {
   "cell_type": "markdown",
   "metadata": {
    "id": "BwPXHsRIy3kv"
   },
   "source": [
    "##### isinstance()"
   ]
  },
  {
   "cell_type": "code",
   "execution_count": 184,
   "metadata": {
    "id": "0fE-rNCVy3kv",
    "outputId": "30100f5e-2920-4f30-a82b-08e3ea13a930"
   },
   "outputs": [
    {
     "name": "stdout",
     "output_type": "stream",
     "text": [
      "False\n",
      "This number is a float type\n"
     ]
    }
   ],
   "source": [
    "# Check a variable to find out what Object family it belongs to\n",
    "# isinstace(var, type)\n",
    "\n",
    "print(isinstance(4.5,int))\n",
    "\n",
    "if isinstance(4.5,float):\n",
    "    print(\"This number is a float type\")\n"
   ]
  },
  {
   "cell_type": "code",
   "execution_count": 185,
   "metadata": {},
   "outputs": [
    {
     "data": {
      "text/plain": [
       "False"
      ]
     },
     "execution_count": 185,
     "metadata": {},
     "output_type": "execute_result"
    }
   ],
   "source": [
    "isinstance('cow', int)"
   ]
  },
  {
   "cell_type": "code",
   "execution_count": 186,
   "metadata": {},
   "outputs": [
    {
     "data": {
      "text/plain": [
       "True"
      ]
     },
     "execution_count": 186,
     "metadata": {},
     "output_type": "execute_result"
    }
   ],
   "source": [
    "isinstance('cow', str)"
   ]
  },
  {
   "cell_type": "markdown",
   "metadata": {
    "id": "yfZ_tG7Gy3kv"
   },
   "source": [
    "##### abs()"
   ]
  },
  {
   "cell_type": "code",
   "execution_count": 187,
   "metadata": {
    "id": "TUxNya0sy3kw",
    "outputId": "1e8995d5-1582-4eca-8a6a-98d683aadb2b"
   },
   "outputs": [
    {
     "name": "stdout",
     "output_type": "stream",
     "text": [
      "5\n",
      "5\n"
     ]
    }
   ],
   "source": [
    "# = absolute distance from 0\n",
    "# format: | 5 |  |-5|\n",
    "\n",
    "print(abs(-5))\n",
    "print(abs(5))\n"
   ]
  },
  {
   "cell_type": "raw",
   "metadata": {},
   "source": [
    "! - bang, exclamation point\n",
    "# - pound sign, hash/hashtag, octothorpe\n",
    "[] - brackets, square bracket\n",
    "() - parans, parathesis l/r paran\n",
    "{} - Braces, curly brackets , or Squiggles\n",
    "#! - shebang\n",
    "% - grapes, percent, mod\n",
    "@ - at symbol \n",
    "* = star, splat or asterisk\n",
    "\n",
    "<> - angle brackets / greater than/less than ... Wakka /Wakka Wakka "
   ]
  },
  {
   "cell_type": "raw",
   "metadata": {},
   "source": [
    "Poem:\n",
    "    Waka waka bang splat tick tick hash,\n",
    "Caret quote back-tick dollar dollar dash,\n",
    "Bang splat equal at dollar under-score,\n",
    "Percent splat waka waka tilde number four,\n",
    "Ampersand bracket bracket dot dot slash,\n",
    "Vertical-bar curly-bracket comma comma CRASH!\n",
    "\n",
    "https://www.shellscript.sh/tips/waka/"
   ]
  },
  {
   "cell_type": "markdown",
   "metadata": {
    "id": "mMIlen05y3kw"
   },
   "source": [
    "### Try and Except"
   ]
  },
  {
   "cell_type": "code",
   "execution_count": 188,
   "metadata": {
    "id": "1cWUxbQwy3kw",
    "outputId": "ff4e4241-2d34-4fd7-fdd3-06a2f5b40720"
   },
   "outputs": [
    {
     "name": "stdout",
     "output_type": "stream",
     "text": [
      "Guess a Number 12\n",
      "Your Number is: 12\n"
     ]
    }
   ],
   "source": [
    "# Use whenever you expect to encounter a bug so that the error doesn't cause the program to stop\n",
    "# Use so that you can log out graceful and useful error messages\n",
    "# Don't have to have a finally\n",
    "\n",
    "# Use this to prevent known user-errors\n",
    "\n",
    "try:\n",
    "    number_test = 0\n",
    "    input_num = int(input('Guess a Number '))\n",
    "    if input_num != number_test:\n",
    "        input_num = input_num + number_test\n",
    "        print(\"Your Number is: \" + str(input_num))\n",
    "except:\n",
    "    print('That did not work ---- ERROR: Change your input to a number')\n"
   ]
  },
  {
   "cell_type": "code",
   "execution_count": 189,
   "metadata": {},
   "outputs": [
    {
     "name": "stdout",
     "output_type": "stream",
     "text": [
      "Can't divide by 0!\n",
      "Okay, move along, now.\n"
     ]
    }
   ],
   "source": [
    "try:\n",
    "    int(\"Steve\")\n",
    "except:\n",
    "    print(\"Can't divide by 0!\")\n",
    "finally:\n",
    "    print(\"Okay, move along, now.\")"
   ]
  },
  {
   "cell_type": "code",
   "execution_count": 190,
   "metadata": {},
   "outputs": [
    {
     "name": "stdout",
     "output_type": "stream",
     "text": [
      "Can't convert a string.\n",
      "Okay, move along, now.\n"
     ]
    }
   ],
   "source": [
    "try:\n",
    "    int(\"Steve\")\n",
    "except ZeroDivisionError:\n",
    "    print(\"Can't divide by 0!\")\n",
    "except ValueError:\n",
    "    print(\"Can't convert a string.\")\n",
    "finally:\n",
    "    print(\"Okay, move along, now.\")"
   ]
  },
  {
   "cell_type": "code",
   "execution_count": 191,
   "metadata": {},
   "outputs": [
    {
     "name": "stdout",
     "output_type": "stream",
     "text": [
      "Can't divide by 0!\n",
      "Okay, move along, now.\n"
     ]
    }
   ],
   "source": [
    "try:\n",
    "    5/0\n",
    "    print(\"Hey, it worked!\")\n",
    "except ZeroDivisionError:\n",
    "    print(\"Can't divide by 0!\")\n",
    "except ValueError:\n",
    "    print(\"Can't convert a string.\")\n",
    "finally:\n",
    "    print(\"Okay, move along, now.\")"
   ]
  },
  {
   "cell_type": "code",
   "execution_count": 192,
   "metadata": {},
   "outputs": [
    {
     "name": "stdout",
     "output_type": "stream",
     "text": [
      "Okay, move along, now.\n"
     ]
    }
   ],
   "source": [
    "try:\n",
    "    int(123)\n",
    "except:\n",
    "    print(\"Can't divide by 0!\")\n",
    "finally:\n",
    "    print(\"Okay, move along, now.\")"
   ]
  },
  {
   "cell_type": "code",
   "execution_count": 60,
   "metadata": {},
   "outputs": [
    {
     "ename": "SyntaxError",
     "evalue": "invalid syntax (4027387752.py, line 1)",
     "output_type": "error",
     "traceback": [
      "\u001b[1;36m  Input \u001b[1;32mIn [60]\u001b[1;36m\u001b[0m\n\u001b[1;33m    def divide[n1, n2]:\u001b[0m\n\u001b[1;37m              ^\u001b[0m\n\u001b[1;31mSyntaxError\u001b[0m\u001b[1;31m:\u001b[0m invalid syntax\n"
     ]
    }
   ],
   "source": [
    "def divide[n1, n2]:\n",
    "    if n2 == 0:\n",
    "        raise ZeroDivisionError('You hockeypuck! You can\\'t divide by zero.')\n",
    "    print(n1/n2)\n",
    "    \n",
    "divide(2,0)"
   ]
  },
  {
   "cell_type": "markdown",
   "metadata": {
    "id": "hJFps1ohy3kw"
   },
   "source": [
    "### Lists"
   ]
  },
  {
   "cell_type": "markdown",
   "metadata": {
    "id": "IPAE0JlQy3kx"
   },
   "source": [
    "##### Declaring Lists"
   ]
  },
  {
   "cell_type": "code",
   "execution_count": 193,
   "metadata": {
    "id": "Xq6Fo4Woy3kx",
    "outputId": "ebc02e0e-3dfd-4c8e-bc28-683de2e2a882"
   },
   "outputs": [
    {
     "name": "stdout",
     "output_type": "stream",
     "text": [
      "['Max', 'Cindy', 'Kathy', 'bob', 'Nate']\n"
     ]
    }
   ],
   "source": [
    "l_1 = [] # Empty List Declaration\n",
    "\n",
    "names = ['Max','Cindy','Kathy', \"bob\",\"Nate\"]\n",
    "\n",
    "print(names)\n"
   ]
  },
  {
   "cell_type": "markdown",
   "metadata": {
    "id": "eW22fAl3y3kx"
   },
   "source": [
    "##### Indexing a List"
   ]
  },
  {
   "cell_type": "code",
   "execution_count": 194,
   "metadata": {
    "id": "LzGqflQFy3kx",
    "outputId": "ec7dc266-f830-4649-e083-33398b1a727a"
   },
   "outputs": [
    {
     "name": "stdout",
     "output_type": "stream",
     "text": [
      "Max\n",
      "['Cindy', 'Kathy', 'bob', 'Nate']\n",
      "['Max', 'Cindy']\n",
      "['Cindy', 'bob']\n",
      "['Nate', 'bob', 'Kathy', 'Cindy', 'Max']\n"
     ]
    }
   ],
   "source": [
    "# [start: stop: step] -- [-1]\n",
    "\n",
    "#Single Index\n",
    "print(names[0])\n",
    "\n",
    "# Print starting at index 1 going to the end\n",
    "print(names[1:])\n",
    "\n",
    "#Print starting at beginning of list to N (n == the number we want to stop at)\n",
    "print(names[:2])\n",
    "\n",
    "# print starting at index 1 going up BY 2 in each iteration\n",
    "print(names[1::2])\n",
    "\n",
    "# print starting at the back and present in reverse order\n",
    "print(names[::-1])\n"
   ]
  },
  {
   "cell_type": "markdown",
   "metadata": {
    "id": "fmWsVtEvy3kx"
   },
   "source": [
    "##### .append()"
   ]
  },
  {
   "cell_type": "code",
   "execution_count": 195,
   "metadata": {
    "id": "C-Sxa6n_y3kx",
    "outputId": "96f30d2a-ba81-47b3-916b-8c5b44e6089f"
   },
   "outputs": [
    {
     "name": "stdout",
     "output_type": "stream",
     "text": [
      "['Max', 'Cindy', 'Kathy', 'bob', 'Nate', 'Joel']\n"
     ]
    }
   ],
   "source": [
    "names.append('Joel')\n",
    "print(names)"
   ]
  },
  {
   "cell_type": "markdown",
   "metadata": {
    "id": "6rTkScgRy3ky"
   },
   "source": [
    "##### .insert()"
   ]
  },
  {
   "cell_type": "code",
   "execution_count": 196,
   "metadata": {
    "id": "eOsKRY5fy3ky",
    "outputId": "2becc5d4-a155-4bb0-b4b4-841d9c99a708"
   },
   "outputs": [
    {
     "name": "stdout",
     "output_type": "stream",
     "text": [
      "['Max', 'Cindy', 'Kathy', 'Gabby', 'bob', 'Nate', 'Joel']\n"
     ]
    }
   ],
   "source": [
    "# list.insert(index,value)\n",
    "\n",
    "names.insert(3,\"Gabby\")\n",
    "print(names)"
   ]
  },
  {
   "cell_type": "markdown",
   "metadata": {
    "id": "YBZpicjHy3ky"
   },
   "source": [
    "##### .pop()"
   ]
  },
  {
   "cell_type": "code",
   "execution_count": 197,
   "metadata": {
    "id": "ByrgRujGy3ky",
    "outputId": "28e19a13-c6a4-46a6-af8f-508b65f6a100"
   },
   "outputs": [
    {
     "name": "stdout",
     "output_type": "stream",
     "text": [
      "Kathy\n"
     ]
    }
   ],
   "source": [
    "# default is the last value if no parameter is given\n",
    "# pop returns the element that was removed in case you want to assign it into a variable\n",
    "\n",
    "# my_name = names.pop()\n",
    "# print(my_name)\n",
    "\n",
    "print(names.pop(2))\n"
   ]
  },
  {
   "cell_type": "markdown",
   "metadata": {
    "id": "S4n8ofuTy3ky"
   },
   "source": [
    "\n",
    "##### .remove()"
   ]
  },
  {
   "cell_type": "code",
   "execution_count": 198,
   "metadata": {
    "id": "22Y4NRihy3kz",
    "outputId": "a79489f4-c7f7-4415-9249-45a2fe97175b"
   },
   "outputs": [
    {
     "name": "stdout",
     "output_type": "stream",
     "text": [
      "['Max', 'Cindy', 'Gabby', 'Nate', 'Joel']\n"
     ]
    }
   ],
   "source": [
    "# value to be removed , not index\n",
    "# names.remove(\"Bob\")\n",
    "# print(names)\n",
    "\n",
    "# remove multiple bobs out of list\n",
    "while 'bob' in names:\n",
    "    names.remove('bob')\n",
    "print(names)"
   ]
  },
  {
   "cell_type": "markdown",
   "metadata": {
    "id": "QWCR9IiZy3kz"
   },
   "source": [
    "##### del()"
   ]
  },
  {
   "cell_type": "code",
   "execution_count": 199,
   "metadata": {
    "id": "MT6cH9fBy3kz",
    "outputId": "7459d30d-aa94-4822-d5c1-cf76882935a6"
   },
   "outputs": [
    {
     "name": "stdout",
     "output_type": "stream",
     "text": [
      "['Max', 'Gabby', 'Nate', 'Joel']\n"
     ]
    }
   ],
   "source": [
    "# index to be removed, not value\n",
    "# BE CAREFUL with del, can cause indexing errors if not used carefully\n",
    "del(names[1])\n",
    "print(names)\n"
   ]
  },
  {
   "cell_type": "markdown",
   "metadata": {
    "id": "qPY3pta5y3kz"
   },
   "source": [
    "##### Concatenating Two Lists"
   ]
  },
  {
   "cell_type": "code",
   "execution_count": 200,
   "metadata": {
    "id": "_MXE0P0My3kz",
    "outputId": "1b94864e-018d-447b-97c5-373d81e62b5b"
   },
   "outputs": [
    {
     "name": "stdout",
     "output_type": "stream",
     "text": [
      "[0, 1, 2, 3, 4, 5]\n"
     ]
    }
   ],
   "source": [
    "# will append two lists together, not add up the elements in each list\n",
    "\n",
    "l_2 = [0,1,2]\n",
    "l_3 = [3,4,5]\n",
    "\n",
    "large_list = l_2 + l_3\n",
    "print(large_list)\n"
   ]
  },
  {
   "cell_type": "markdown",
   "metadata": {
    "id": "wFn3gjony3k0"
   },
   "source": [
    "##### Lists Within Lists"
   ]
  },
  {
   "cell_type": "code",
   "execution_count": 201,
   "metadata": {
    "id": "0u45o1UHy3k0",
    "outputId": "1d4256b9-37b8-48c5-c1d2-58baf344e9f4"
   },
   "outputs": [
    {
     "name": "stdout",
     "output_type": "stream",
     "text": [
      "['Max', 'Sam', 'Josh', ['Sally', 'Sue', 'Tameka']]\n",
      "Sue\n"
     ]
    }
   ],
   "source": [
    "# Lists are able to hold any type of element, including OTHER lists themsevles\n",
    "# they can also go as deep as you want, having many lists nested inside of each other\n",
    "\n",
    "names = [\"Max\", \"Sam\",\"Josh\",[\"Sally\",\"Sue\",\"Tameka\"]]\n",
    "\n",
    "print(names)\n",
    "print(names[3][1])"
   ]
  },
  {
   "cell_type": "markdown",
   "metadata": {
    "id": "SnVJOL63y3k0"
   },
   "source": [
    "##### Looping Through Lists"
   ]
  },
  {
   "cell_type": "code",
   "execution_count": 202,
   "metadata": {
    "id": "u6koAq01y3k0",
    "outputId": "00d94fdf-287b-429a-a4e5-be5035cb0c6a"
   },
   "outputs": [
    {
     "name": "stdout",
     "output_type": "stream",
     "text": [
      "Max\n",
      "Sam\n",
      "Josh\n",
      "['Sally', 'Sue', 'Tameka']\n",
      "Max\n",
      "Sam\n",
      "Josh\n",
      "['Sally', 'Sue', 'Tameka']\n"
     ]
    }
   ],
   "source": [
    "# two ways to loop through a list, one is by index, the other is by using the 'in' keyword\n",
    "\n",
    "# Loop with a for loop (By Index)\n",
    "for i in range(len(names)):\n",
    "    print(names[i])\n",
    "    \n",
    "# Loop with a for loop (Using the 'in' keyword)\n",
    "for i in names:\n",
    "    print(i)\n"
   ]
  },
  {
   "cell_type": "markdown",
   "metadata": {
    "id": "XDmCL9rSy3k0"
   },
   "source": [
    "## Exercise #1 <br>\n",
    "<p>Cube Number Test... Print out all cubed numbers up to the total value 1000. Meaning that if the cubed number is over 1000 break the loop.</p>"
   ]
  },
  {
   "cell_type": "code",
   "execution_count": 227,
   "metadata": {
    "executionInfo": {
     "elapsed": 6,
     "status": "ok",
     "timestamp": 1662987778591,
     "user": {
      "displayName": "Kevin Beier",
      "userId": "13317806180973384109"
     },
     "user_tz": 240
    },
    "id": "Dq14jzCvy3k0"
   },
   "outputs": [
    {
     "name": "stdout",
     "output_type": "stream",
     "text": [
      "[0, 1, 8, 27, 64, 125, 216, 343, 512, 729, 1000]\n"
     ]
    }
   ],
   "source": [
    "# First Attempt:\n",
    "\n",
    "# list_num = []\n",
    "# for n in range(0, 1001):  # 0 can be a perfect cube. 10**3 == 1,000, so the range is definitely less than 1,000!\n",
    "#     list_num.append(n**3)\n",
    "#     n += 1\n",
    "    \n",
    "# print(list_num) \n",
    "\n",
    "# Incorrect! \n",
    "\n",
    "\n",
    "\n",
    "# Second Attempt:\n",
    "\n",
    "# list_num = []\n",
    "# for n in range(0, 1001):  # 0 can be a perfect cube. 10**3 == 1,000, so the range is definitely less than 1,000!\n",
    "#     if n**3 <= 1000: \n",
    "#         list_num.append(n**3)\n",
    "#         n += 1\n",
    "#        print(list_num) \n",
    "\n",
    "# Location of print matters!\n",
    "\n",
    "\n",
    "\n",
    "# Third Attempt:\n",
    "\n",
    "cubes = []\n",
    "for n in range(0, 1001): # 0 can be a perfect cube. 10**3 == 1,000, so the range is definitely less than 1,000!\n",
    "    if n**3 <= 1000: \n",
    "        cubes.append(n**3)\n",
    "        n += 1\n",
    "print(cubes) \n",
    "\n",
    "# I renamed this \"cubes\" after I decided to name the next one \"primes\"\n"
   ]
  },
  {
   "cell_type": "markdown",
   "metadata": {
    "id": "wmquJRw2y3k1"
   },
   "source": [
    "## Exercise #2 <br>\n",
    "<p>Get first prime numbers up to 100</p>"
   ]
  },
  {
   "cell_type": "code",
   "execution_count": 7,
   "metadata": {
    "id": "pwvV7PoRy3k1"
   },
   "outputs": [
    {
     "name": "stdout",
     "output_type": "stream",
     "text": [
      "[]\n"
     ]
    }
   ],
   "source": [
    "# Primes Note:\n",
    "# A prime is greater than one and divisible by itself and one ONLY (with nothing left, aka modulo)\n",
    "# expected output to 100: 2,3,5,7,11,13,17,19,23,29,31,41,43,47,53,59,61,67,71,73,79,83,89,97\n",
    "# 1 is sometimes considered prime, but not the norm\n",
    "\n",
    "# HINT:\n",
    "# An else after an if runs if the if didn’t\n",
    "# An else after a for runs if the for didn’t break\n",
    "\n",
    "\n",
    "# First Attempt:\n",
    "\n",
    "# primes = []\n",
    "# for n in range(2, 101):\n",
    "#     if n / n == 1 and n % 1 == 0:  \n",
    "#         primes.append(n)\n",
    "#         n += 1\n",
    "# print(primes) \n",
    "\n",
    "\n",
    "# Second Attempt:\n",
    "# primes = []\n",
    "# for n in range (1, 101): \n",
    "#     if n % 2 == 0 and n != n: \n",
    "#         if n % 1 == 0 and n / n == 1:\n",
    "#             primes.append(n)\n",
    "            \n",
    "# print(primes)\n",
    "\n",
    "\n",
    "# Third Attempt:\n",
    "# I was playing with primes once...PREWORK!\n",
    "# not counting one, here\n",
    "# if num % n == 0 - duh, two different ones! I was also thinking backwards on this. \n",
    "    # If it's cleanly divisible by another number (modulo 0), then it can't be prime when we're starting with 2!\n",
    "\n",
    "primes = []\n",
    "def is_prime(num):\n",
    "    for n in range(2, num): \n",
    "        if num % n == 0 and num / n != 1: \n",
    "            continue\n",
    "        else: \n",
    "            primes.append(num)\n",
    "            n += 1\n",
    "\n",
    "print(primes)\n",
    "\n",
    "# Stink! I'm still missing something. However, I like what I found below:\n",
    "  "
   ]
  },
  {
   "cell_type": "code",
   "execution_count": 9,
   "metadata": {},
   "outputs": [
    {
     "ename": "ModuleNotFoundError",
     "evalue": "No module named 'sympy'",
     "output_type": "error",
     "traceback": [
      "\u001b[1;31m---------------------------------------------------------------------------\u001b[0m",
      "\u001b[1;31mModuleNotFoundError\u001b[0m                       Traceback (most recent call last)",
      "\u001b[1;32mc:\\Users\\danan\\Desktop\\Coding Temple\\Elite_100\\week2\\day1\\homework\\My_Inclass-Lecture-Notes.ipynb Cell 199\u001b[0m in \u001b[0;36m<cell line: 4>\u001b[1;34m()\u001b[0m\n\u001b[0;32m      <a href='vscode-notebook-cell:/c%3A/Users/danan/Desktop/Coding%20Temple/Elite_100/week2/day1/homework/My_Inclass-Lecture-Notes.ipynb#Y402sZmlsZQ%3D%3D?line=0'>1</a>\u001b[0m \u001b[39m#another solution from https://stackoverflow.com/questions/13326673/is-there-a-python-library-to-list-primes\u001b[39;00m\n\u001b[0;32m      <a href='vscode-notebook-cell:/c%3A/Users/danan/Desktop/Coding%20Temple/Elite_100/week2/day1/homework/My_Inclass-Lecture-Notes.ipynb#Y402sZmlsZQ%3D%3D?line=1'>2</a>\u001b[0m \u001b[39m# simple, elegant solution to use the built-in sympy code:\u001b[39;00m\n\u001b[1;32m----> <a href='vscode-notebook-cell:/c%3A/Users/danan/Desktop/Coding%20Temple/Elite_100/week2/day1/homework/My_Inclass-Lecture-Notes.ipynb#Y402sZmlsZQ%3D%3D?line=3'>4</a>\u001b[0m \u001b[39mimport\u001b[39;00m \u001b[39msympy\u001b[39;00m\n\u001b[0;32m      <a href='vscode-notebook-cell:/c%3A/Users/danan/Desktop/Coding%20Temple/Elite_100/week2/day1/homework/My_Inclass-Lecture-Notes.ipynb#Y402sZmlsZQ%3D%3D?line=4'>5</a>\u001b[0m \u001b[39mlist\u001b[39m(sympy\u001b[39m.\u001b[39mprimerange(\u001b[39m1\u001b[39m, \u001b[39m101\u001b[39m))\n\u001b[0;32m      <a href='vscode-notebook-cell:/c%3A/Users/danan/Desktop/Coding%20Temple/Elite_100/week2/day1/homework/My_Inclass-Lecture-Notes.ipynb#Y402sZmlsZQ%3D%3D?line=6'>7</a>\u001b[0m \u001b[39m# I prefer them in a straight list:\u001b[39;00m\n",
      "\u001b[1;31mModuleNotFoundError\u001b[0m: No module named 'sympy'"
     ]
    }
   ],
   "source": [
    "#another solution from https://stackoverflow.com/questions/13326673/is-there-a-python-library-to-list-primes\n",
    "# simple, elegant solution to use the built-in sympy code:\n",
    "\n",
    "import sympy\n",
    "list(sympy.primerange(1, 101))\n",
    "\n",
    "# I prefer them in a straight list:\n",
    "print(list(sympy.primerange(1, 101)))"
   ]
  },
  {
   "cell_type": "markdown",
   "metadata": {
    "id": "_QzQ2NMjy3k1"
   },
   "source": [
    "# Exercise 3 <br>\n",
    "<p>Take in a users input for their age, if they are younger than 18 print kids, if they're 18 to 65 print adults, else print seniors</p>"
   ]
  },
  {
   "cell_type": "code",
   "execution_count": null,
   "metadata": {
    "id": "GGWSMoaSy3k1"
   },
   "outputs": [
    {
     "name": "stdout",
     "output_type": "stream",
     "text": [
      "What is your age? 72\n",
      "senior\n"
     ]
    }
   ],
   "source": [
    "# one input at a time means singular!\n",
    "# This was the easiest one!\n",
    "\n",
    "age = input(\"What is your age? \")\n",
    "if int(age) < 18:\n",
    "    print(\"kid\")\n",
    "elif int(age) >= 18 and int(age) < 65 or int(age) == 65:\n",
    "    print(\"adult\")\n",
    "else:\n",
    "    print(\"senior\")\n",
    "    \n",
    "# 12 == kid\n",
    "# 34 == adult\n",
    "# 72 == senior"
   ]
  }
 ],
 "metadata": {
  "colab": {
   "provenance": []
  },
  "kernelspec": {
   "display_name": "Python 3.10.5 64-bit",
   "language": "python",
   "name": "python3"
  },
  "language_info": {
   "codemirror_mode": {
    "name": "ipython",
    "version": 3
   },
   "file_extension": ".py",
   "mimetype": "text/x-python",
   "name": "python",
   "nbconvert_exporter": "python",
   "pygments_lexer": "ipython3",
   "version": "3.10.5"
  },
  "vscode": {
   "interpreter": {
    "hash": "26de051ba29f2982a8de78e945f0abaf191376122a1563185a90213a26c5da77"
   }
  }
 },
 "nbformat": 4,
 "nbformat_minor": 1
}
